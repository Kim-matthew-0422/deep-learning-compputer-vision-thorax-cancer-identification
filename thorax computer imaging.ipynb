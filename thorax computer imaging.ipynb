{
  "nbformat": 4,
  "nbformat_minor": 0,
  "metadata": {
    "colab": {
      "provenance": [],
      "authorship_tag": "ABX9TyPIUFDegJmHlL93h4df9XO6",
      "include_colab_link": true
    },
    "kernelspec": {
      "name": "python3",
      "display_name": "Python 3"
    },
    "language_info": {
      "name": "python"
    },
    "accelerator": "GPU",
    "gpuClass": "standard"
  },
  "cells": [
    {
      "cell_type": "markdown",
      "metadata": {
        "id": "view-in-github",
        "colab_type": "text"
      },
      "source": [
        "<a href=\"https://colab.research.google.com/github/Kim-matthew-0422/deep-learning-compputer-vision-thorax-cancer-identification/blob/main/thorax%20computer%20imaging.ipynb\" target=\"_parent\"><img src=\"https://colab.research.google.com/assets/colab-badge.svg\" alt=\"Open In Colab\"/></a>"
      ]
    },
    {
      "cell_type": "code",
      "execution_count": 1,
      "metadata": {
        "colab": {
          "base_uri": "https://localhost:8080/"
        },
        "id": "sfvAQAi0HvZw",
        "outputId": "7f924e78-0e98-4d35-82c4-019883794e44"
      },
      "outputs": [
        {
          "output_type": "stream",
          "name": "stdout",
          "text": [
            "Wed Jan 25 04:22:48 2023       \n",
            "+-----------------------------------------------------------------------------+\n",
            "| NVIDIA-SMI 510.47.03    Driver Version: 510.47.03    CUDA Version: 11.6     |\n",
            "|-------------------------------+----------------------+----------------------+\n",
            "| GPU  Name        Persistence-M| Bus-Id        Disp.A | Volatile Uncorr. ECC |\n",
            "| Fan  Temp  Perf  Pwr:Usage/Cap|         Memory-Usage | GPU-Util  Compute M. |\n",
            "|                               |                      |               MIG M. |\n",
            "|===============================+======================+======================|\n",
            "|   0  Tesla T4            Off  | 00000000:00:04.0 Off |                    0 |\n",
            "| N/A   40C    P0    25W /  70W |      0MiB / 15360MiB |      0%      Default |\n",
            "|                               |                      |                  N/A |\n",
            "+-------------------------------+----------------------+----------------------+\n",
            "                                                                               \n",
            "+-----------------------------------------------------------------------------+\n",
            "| Processes:                                                                  |\n",
            "|  GPU   GI   CI        PID   Type   Process name                  GPU Memory |\n",
            "|        ID   ID                                                   Usage      |\n",
            "|=============================================================================|\n",
            "|  No running processes found                                                 |\n",
            "+-----------------------------------------------------------------------------+\n"
          ]
        }
      ],
      "source": [
        "!nvidia-smi"
      ]
    },
    {
      "cell_type": "code",
      "source": [
        "!wget https://raw.githubusercontent.com/mrdbourke/tensorflow-deep-learning/main/extras/helper_functions.py"
      ],
      "metadata": {
        "colab": {
          "base_uri": "https://localhost:8080/"
        },
        "id": "-YdsuuwzH3Z4",
        "outputId": "974b4d74-8ef0-4f0f-ae50-4b492b57bd43"
      },
      "execution_count": 2,
      "outputs": [
        {
          "output_type": "stream",
          "name": "stdout",
          "text": [
            "--2023-01-25 04:22:48--  https://raw.githubusercontent.com/mrdbourke/tensorflow-deep-learning/main/extras/helper_functions.py\n",
            "Resolving raw.githubusercontent.com (raw.githubusercontent.com)... 185.199.108.133, 185.199.109.133, 185.199.110.133, ...\n",
            "Connecting to raw.githubusercontent.com (raw.githubusercontent.com)|185.199.108.133|:443... connected.\n",
            "HTTP request sent, awaiting response... 200 OK\n",
            "Length: 10246 (10K) [text/plain]\n",
            "Saving to: ‘helper_functions.py’\n",
            "\n",
            "\rhelper_functions.py   0%[                    ]       0  --.-KB/s               \rhelper_functions.py 100%[===================>]  10.01K  --.-KB/s    in 0s      \n",
            "\n",
            "2023-01-25 04:22:48 (99.2 MB/s) - ‘helper_functions.py’ saved [10246/10246]\n",
            "\n"
          ]
        }
      ]
    },
    {
      "cell_type": "code",
      "source": [
        "# Import series of helper functions for the notebook (we've created/used these in previous notebooks)\n",
        "from helper_functions import create_tensorboard_callback, plot_loss_curves, unzip_data, compare_historys, walk_through_dir"
      ],
      "metadata": {
        "id": "TQeofUzGH3YX"
      },
      "execution_count": 3,
      "outputs": []
    },
    {
      "cell_type": "code",
      "source": [
        "!mkdir ~/.kaggle "
      ],
      "metadata": {
        "id": "K6GSiU_UH3Vx"
      },
      "execution_count": 4,
      "outputs": []
    },
    {
      "cell_type": "code",
      "source": [],
      "metadata": {
        "colab": {
          "base_uri": "https://localhost:8080/"
        },
        "id": "zyo3qQFWH3Tb",
        "outputId": "76170190-8d1c-4e3d-e8bb-c091ca415305"
      },
      "execution_count": null,
      "outputs": [
        {
          "output_type": "stream",
          "name": "stdout",
          "text": [
            "cp: cannot stat 'kaggle.json': No such file or directory\n"
          ]
        }
      ]
    },
    {
      "cell_type": "code",
      "source": [
        "from google.colab import files\n",
        "files.upload()"
      ],
      "metadata": {
        "colab": {
          "base_uri": "https://localhost:8080/",
          "height": 91
        },
        "id": "ZhR43pJ1H3Q4",
        "outputId": "84a8ab12-286a-496b-838b-e6e7d527f094"
      },
      "execution_count": 5,
      "outputs": [
        {
          "output_type": "display_data",
          "data": {
            "text/plain": [
              "<IPython.core.display.HTML object>"
            ],
            "text/html": [
              "\n",
              "     <input type=\"file\" id=\"files-435b3e6a-c120-41fb-85f8-09b5a7b8c227\" name=\"files[]\" multiple disabled\n",
              "        style=\"border:none\" />\n",
              "     <output id=\"result-435b3e6a-c120-41fb-85f8-09b5a7b8c227\">\n",
              "      Upload widget is only available when the cell has been executed in the\n",
              "      current browser session. Please rerun this cell to enable.\n",
              "      </output>\n",
              "      <script>// Copyright 2017 Google LLC\n",
              "//\n",
              "// Licensed under the Apache License, Version 2.0 (the \"License\");\n",
              "// you may not use this file except in compliance with the License.\n",
              "// You may obtain a copy of the License at\n",
              "//\n",
              "//      http://www.apache.org/licenses/LICENSE-2.0\n",
              "//\n",
              "// Unless required by applicable law or agreed to in writing, software\n",
              "// distributed under the License is distributed on an \"AS IS\" BASIS,\n",
              "// WITHOUT WARRANTIES OR CONDITIONS OF ANY KIND, either express or implied.\n",
              "// See the License for the specific language governing permissions and\n",
              "// limitations under the License.\n",
              "\n",
              "/**\n",
              " * @fileoverview Helpers for google.colab Python module.\n",
              " */\n",
              "(function(scope) {\n",
              "function span(text, styleAttributes = {}) {\n",
              "  const element = document.createElement('span');\n",
              "  element.textContent = text;\n",
              "  for (const key of Object.keys(styleAttributes)) {\n",
              "    element.style[key] = styleAttributes[key];\n",
              "  }\n",
              "  return element;\n",
              "}\n",
              "\n",
              "// Max number of bytes which will be uploaded at a time.\n",
              "const MAX_PAYLOAD_SIZE = 100 * 1024;\n",
              "\n",
              "function _uploadFiles(inputId, outputId) {\n",
              "  const steps = uploadFilesStep(inputId, outputId);\n",
              "  const outputElement = document.getElementById(outputId);\n",
              "  // Cache steps on the outputElement to make it available for the next call\n",
              "  // to uploadFilesContinue from Python.\n",
              "  outputElement.steps = steps;\n",
              "\n",
              "  return _uploadFilesContinue(outputId);\n",
              "}\n",
              "\n",
              "// This is roughly an async generator (not supported in the browser yet),\n",
              "// where there are multiple asynchronous steps and the Python side is going\n",
              "// to poll for completion of each step.\n",
              "// This uses a Promise to block the python side on completion of each step,\n",
              "// then passes the result of the previous step as the input to the next step.\n",
              "function _uploadFilesContinue(outputId) {\n",
              "  const outputElement = document.getElementById(outputId);\n",
              "  const steps = outputElement.steps;\n",
              "\n",
              "  const next = steps.next(outputElement.lastPromiseValue);\n",
              "  return Promise.resolve(next.value.promise).then((value) => {\n",
              "    // Cache the last promise value to make it available to the next\n",
              "    // step of the generator.\n",
              "    outputElement.lastPromiseValue = value;\n",
              "    return next.value.response;\n",
              "  });\n",
              "}\n",
              "\n",
              "/**\n",
              " * Generator function which is called between each async step of the upload\n",
              " * process.\n",
              " * @param {string} inputId Element ID of the input file picker element.\n",
              " * @param {string} outputId Element ID of the output display.\n",
              " * @return {!Iterable<!Object>} Iterable of next steps.\n",
              " */\n",
              "function* uploadFilesStep(inputId, outputId) {\n",
              "  const inputElement = document.getElementById(inputId);\n",
              "  inputElement.disabled = false;\n",
              "\n",
              "  const outputElement = document.getElementById(outputId);\n",
              "  outputElement.innerHTML = '';\n",
              "\n",
              "  const pickedPromise = new Promise((resolve) => {\n",
              "    inputElement.addEventListener('change', (e) => {\n",
              "      resolve(e.target.files);\n",
              "    });\n",
              "  });\n",
              "\n",
              "  const cancel = document.createElement('button');\n",
              "  inputElement.parentElement.appendChild(cancel);\n",
              "  cancel.textContent = 'Cancel upload';\n",
              "  const cancelPromise = new Promise((resolve) => {\n",
              "    cancel.onclick = () => {\n",
              "      resolve(null);\n",
              "    };\n",
              "  });\n",
              "\n",
              "  // Wait for the user to pick the files.\n",
              "  const files = yield {\n",
              "    promise: Promise.race([pickedPromise, cancelPromise]),\n",
              "    response: {\n",
              "      action: 'starting',\n",
              "    }\n",
              "  };\n",
              "\n",
              "  cancel.remove();\n",
              "\n",
              "  // Disable the input element since further picks are not allowed.\n",
              "  inputElement.disabled = true;\n",
              "\n",
              "  if (!files) {\n",
              "    return {\n",
              "      response: {\n",
              "        action: 'complete',\n",
              "      }\n",
              "    };\n",
              "  }\n",
              "\n",
              "  for (const file of files) {\n",
              "    const li = document.createElement('li');\n",
              "    li.append(span(file.name, {fontWeight: 'bold'}));\n",
              "    li.append(span(\n",
              "        `(${file.type || 'n/a'}) - ${file.size} bytes, ` +\n",
              "        `last modified: ${\n",
              "            file.lastModifiedDate ? file.lastModifiedDate.toLocaleDateString() :\n",
              "                                    'n/a'} - `));\n",
              "    const percent = span('0% done');\n",
              "    li.appendChild(percent);\n",
              "\n",
              "    outputElement.appendChild(li);\n",
              "\n",
              "    const fileDataPromise = new Promise((resolve) => {\n",
              "      const reader = new FileReader();\n",
              "      reader.onload = (e) => {\n",
              "        resolve(e.target.result);\n",
              "      };\n",
              "      reader.readAsArrayBuffer(file);\n",
              "    });\n",
              "    // Wait for the data to be ready.\n",
              "    let fileData = yield {\n",
              "      promise: fileDataPromise,\n",
              "      response: {\n",
              "        action: 'continue',\n",
              "      }\n",
              "    };\n",
              "\n",
              "    // Use a chunked sending to avoid message size limits. See b/62115660.\n",
              "    let position = 0;\n",
              "    do {\n",
              "      const length = Math.min(fileData.byteLength - position, MAX_PAYLOAD_SIZE);\n",
              "      const chunk = new Uint8Array(fileData, position, length);\n",
              "      position += length;\n",
              "\n",
              "      const base64 = btoa(String.fromCharCode.apply(null, chunk));\n",
              "      yield {\n",
              "        response: {\n",
              "          action: 'append',\n",
              "          file: file.name,\n",
              "          data: base64,\n",
              "        },\n",
              "      };\n",
              "\n",
              "      let percentDone = fileData.byteLength === 0 ?\n",
              "          100 :\n",
              "          Math.round((position / fileData.byteLength) * 100);\n",
              "      percent.textContent = `${percentDone}% done`;\n",
              "\n",
              "    } while (position < fileData.byteLength);\n",
              "  }\n",
              "\n",
              "  // All done.\n",
              "  yield {\n",
              "    response: {\n",
              "      action: 'complete',\n",
              "    }\n",
              "  };\n",
              "}\n",
              "\n",
              "scope.google = scope.google || {};\n",
              "scope.google.colab = scope.google.colab || {};\n",
              "scope.google.colab._files = {\n",
              "  _uploadFiles,\n",
              "  _uploadFilesContinue,\n",
              "};\n",
              "})(self);\n",
              "</script> "
            ]
          },
          "metadata": {}
        },
        {
          "output_type": "stream",
          "name": "stdout",
          "text": [
            "Saving kaggle.json to kaggle.json\n"
          ]
        },
        {
          "output_type": "execute_result",
          "data": {
            "text/plain": [
              "{'kaggle.json': b'{\"username\":\"etkim422\",\"key\":\"ba5083a771515c1999a723e17e69eb58\"}'}"
            ]
          },
          "metadata": {},
          "execution_count": 5
        }
      ]
    },
    {
      "cell_type": "code",
      "source": [
        "!cp kaggle.json ~/.kaggle/"
      ],
      "metadata": {
        "id": "5llsL7LuH3OR"
      },
      "execution_count": 6,
      "outputs": []
    },
    {
      "cell_type": "code",
      "source": [
        "!kaggle datasets download -d mohamedhanyyy/chest-ctscan-images"
      ],
      "metadata": {
        "colab": {
          "base_uri": "https://localhost:8080/"
        },
        "id": "orcVxBEaH3JF",
        "outputId": "036fcde9-34fc-41bf-c36b-861882bca21f"
      },
      "execution_count": 7,
      "outputs": [
        {
          "output_type": "stream",
          "name": "stdout",
          "text": [
            "Warning: Your Kaggle API key is readable by other users on this system! To fix this, you can run 'chmod 600 /root/.kaggle/kaggle.json'\n",
            "Downloading chest-ctscan-images.zip to /content\n",
            "100% 119M/119M [00:06<00:00, 20.0MB/s]\n",
            "100% 119M/119M [00:06<00:00, 18.2MB/s]\n"
          ]
        }
      ]
    },
    {
      "cell_type": "code",
      "source": [
        "unzip_data(\"chest-ctscan-images.zip\")"
      ],
      "metadata": {
        "id": "9nhmAppcJ19T"
      },
      "execution_count": 8,
      "outputs": []
    },
    {
      "cell_type": "code",
      "source": [
        "train_dir = 'Data/train/'\n",
        "test_dir = 'Data/test/'"
      ],
      "metadata": {
        "id": "rhYndMg3J2FR"
      },
      "execution_count": 9,
      "outputs": []
    },
    {
      "cell_type": "code",
      "source": [
        "walk_through_dir(\"Data\")"
      ],
      "metadata": {
        "colab": {
          "base_uri": "https://localhost:8080/"
        },
        "id": "zEyFWfMrJ17H",
        "outputId": "6bea6140-4fd6-456f-94ca-ea2adb631417"
      },
      "execution_count": 10,
      "outputs": [
        {
          "output_type": "stream",
          "name": "stdout",
          "text": [
            "There are 3 directories and 0 images in 'Data'.\n",
            "There are 4 directories and 0 images in 'Data/train'.\n",
            "There are 0 directories and 155 images in 'Data/train/squamous.cell.carcinoma_left.hilum_T1_N2_M0_IIIa'.\n",
            "There are 0 directories and 195 images in 'Data/train/adenocarcinoma_left.lower.lobe_T2_N0_M0_Ib'.\n",
            "There are 0 directories and 115 images in 'Data/train/large.cell.carcinoma_left.hilum_T2_N2_M0_IIIa'.\n",
            "There are 0 directories and 148 images in 'Data/train/normal'.\n",
            "There are 4 directories and 0 images in 'Data/valid'.\n",
            "There are 0 directories and 15 images in 'Data/valid/squamous.cell.carcinoma_left.hilum_T1_N2_M0_IIIa'.\n",
            "There are 0 directories and 23 images in 'Data/valid/adenocarcinoma_left.lower.lobe_T2_N0_M0_Ib'.\n",
            "There are 0 directories and 21 images in 'Data/valid/large.cell.carcinoma_left.hilum_T2_N2_M0_IIIa'.\n",
            "There are 0 directories and 13 images in 'Data/valid/normal'.\n",
            "There are 4 directories and 0 images in 'Data/test'.\n",
            "There are 0 directories and 51 images in 'Data/test/large.cell.carcinoma'.\n",
            "There are 0 directories and 90 images in 'Data/test/squamous.cell.carcinoma'.\n",
            "There are 0 directories and 54 images in 'Data/test/normal'.\n",
            "There are 0 directories and 120 images in 'Data/test/adenocarcinoma'.\n"
          ]
        }
      ]
    },
    {
      "cell_type": "code",
      "source": [
        "image_shape = (305,430,3)\n",
        "N_CLASSES = 4\n",
        "BATCH_SIZE = 32\n",
        "train_path = \"Data/train\"\n",
        "valid_path = \"Data/valid\"\n",
        "test_path = \"Data/test\"\n",
        "from keras.preprocessing.image import ImageDataGenerator\n",
        "train_datagen = ImageDataGenerator(dtype='float32', rescale= 1./255.)\n",
        "train_generator = train_datagen.flow_from_directory(train_path,\n",
        "                                                   batch_size = BATCH_SIZE,\n",
        "                                                   target_size = (305,430),\n",
        "                                                   class_mode = 'categorical')\n",
        "\n",
        "valid_datagen = ImageDataGenerator(dtype='float32', rescale= 1./255.)\n",
        "valid_generator = valid_datagen.flow_from_directory(valid_path,\n",
        "                                                   batch_size = BATCH_SIZE,\n",
        "                                                   target_size = (305,430),\n",
        "                                                   class_mode = 'categorical')\n",
        "\n",
        "test_datagen = ImageDataGenerator(dtype='float32', rescale = 1.0/255.0)\n",
        "test_generator = test_datagen.flow_from_directory(test_path,\n",
        "                                                   batch_size = BATCH_SIZE,\n",
        "                                                   target_size = (305,430),\n",
        "                                                   class_mode = 'categorical')"
      ],
      "metadata": {
        "colab": {
          "base_uri": "https://localhost:8080/"
        },
        "id": "Ay4EO_heJ14y",
        "outputId": "ff645d44-371f-403f-e265-da0cfdbbd990"
      },
      "execution_count": 11,
      "outputs": [
        {
          "output_type": "stream",
          "name": "stdout",
          "text": [
            "Found 613 images belonging to 4 classes.\n",
            "Found 72 images belonging to 4 classes.\n",
            "Found 315 images belonging to 4 classes.\n"
          ]
        }
      ]
    },
    {
      "cell_type": "code",
      "source": [
        "import numpy as np\n",
        "import matplotlib.pyplot as plt\n",
        "\n",
        "import cv2\n",
        "import os\n",
        "import pandas as pd\n",
        "class_names=list(test_generator.class_indices.keys())\n",
        "print(class_names)\n",
        "\n",
        "fig = plt.figure(figsize=(20,5))\n",
        "\n",
        "image_batch,label_batch = test_generator[1]\n",
        "for i in range(15):\n",
        "    ax = fig.add_subplot(3,5,i+1,xticks = [], yticks = [])\n",
        "    ax.imshow(image_batch[i])\n",
        "    plt.axis('off')\n",
        "    plt.title(class_names[np.argmax(label_batch[i])])"
      ],
      "metadata": {
        "colab": {
          "base_uri": "https://localhost:8080/",
          "height": 264
        },
        "id": "Reo9WIe5J11y",
        "outputId": "f9a9409d-8740-45ee-f366-aa735920f6d0"
      },
      "execution_count": 12,
      "outputs": [
        {
          "output_type": "stream",
          "name": "stdout",
          "text": [
            "['adenocarcinoma', 'large.cell.carcinoma', 'normal', 'squamous.cell.carcinoma']\n"
          ]
        },
        {
          "output_type": "display_data",
          "data": {
            "text/plain": [
              "<Figure size 1440x360 with 15 Axes>"
            ],
            "image/png": "[encoded data removed]"
          },
          "metadata": {}
        }
      ]
    },
    {
      "cell_type": "code",
      "source": [
        "import tensorflow as tf\n",
        "\n",
        "from keras import optimizers\n",
        "from keras.utils import load_img, img_to_array\n",
        "from keras.models import Sequential\n",
        "from keras.layers import Dense, Flatten, Dropout, BatchNormalization, Conv2D, MaxPooling2D\n",
        "from keras.preprocessing.image import ImageDataGenerator\n",
        "from keras.callbacks import ModelCheckpoint, EarlyStopping\n",
        "\n",
        "from keras.applications import ResNet50, DenseNet201\n",
        "from keras.applications import resnet, densenet\n",
        "first_model = Sequential([\n",
        "  Conv2D(8, 2, padding='same', activation='relu', input_shape = image_shape),\n",
        "  MaxPooling2D(2),\n",
        "  Conv2D(16, 2, padding='same', activation='relu'),\n",
        "  MaxPooling2D(2),\n",
        "\n",
        "  Dropout(0.4),\n",
        "  Flatten(),\n",
        "  Dense(256, activation='relu'),\n",
        "  Dropout(0.4),\n",
        "  Dense(4, activation='softmax')\n",
        "])\n",
        "first_model.summary()"
      ],
      "metadata": {
        "colab": {
          "base_uri": "https://localhost:8080/"
        },
        "id": "bfvOFZHfJ1yn",
        "outputId": "87a187b7-9ad8-4957-de6d-5718d356626c"
      },
      "execution_count": 13,
      "outputs": [
        {
          "output_type": "stream",
          "name": "stdout",
          "text": [
            "Model: \"sequential\"\n",
            "_________________________________________________________________\n",
            " Layer (type)                Output Shape              Param #   \n",
            "=================================================================\n",
            " conv2d (Conv2D)             (None, 305, 430, 8)       104       \n",
            "                                                                 \n",
            " max_pooling2d (MaxPooling2D  (None, 152, 215, 8)      0         \n",
            " )                                                               \n",
            "                                                                 \n",
            " conv2d_1 (Conv2D)           (None, 152, 215, 16)      528       \n",
            "                                                                 \n",
            " max_pooling2d_1 (MaxPooling  (None, 76, 107, 16)      0         \n",
            " 2D)                                                             \n",
            "                                                                 \n",
            " dropout (Dropout)           (None, 76, 107, 16)       0         \n",
            "                                                                 \n",
            " flatten (Flatten)           (None, 130112)            0         \n",
            "                                                                 \n",
            " dense (Dense)               (None, 256)               33308928  \n",
            "                                                                 \n",
            " dropout_1 (Dropout)         (None, 256)               0         \n",
            "                                                                 \n",
            " dense_1 (Dense)             (None, 4)                 1028      \n",
            "                                                                 \n",
            "=================================================================\n",
            "Total params: 33,310,588\n",
            "Trainable params: 33,310,588\n",
            "Non-trainable params: 0\n",
            "_________________________________________________________________\n"
          ]
        }
      ]
    },
    {
      "cell_type": "code",
      "source": [
        "checkpointer = ModelCheckpoint('chestmodel.hdf5',verbose=1, save_best_only= True)\n",
        "early_stopping = EarlyStopping(monitor= 'val_loss', patience= 10)\n",
        "optimizer = optimizers.Adam(learning_rate= 0.00001, decay= 1e-5)\n",
        "\n",
        "first_model.compile(loss= 'categorical_crossentropy', optimizer= optimizer, metrics=['acc'])\n",
        "history = first_model.fit(train_generator,\n",
        "                    steps_per_epoch = 20,\n",
        "                    epochs = 80,\n",
        "                    verbose = 1,\n",
        "                    validation_data = valid_generator,\n",
        "                    callbacks = [checkpointer, early_stopping])"
      ],
      "metadata": {
        "colab": {
          "base_uri": "https://localhost:8080/"
        },
        "id": "KLbHs4qMJ1vi",
        "outputId": "dc5707b1-c663-4659-83b1-52249a627fd8"
      },
      "execution_count": 14,
      "outputs": [
        {
          "output_type": "stream",
          "name": "stdout",
          "text": [
            "Epoch 1/80\n",
            "20/20 [==============================] - ETA: 0s - loss: 1.3185 - acc: 0.3507\n",
            "Epoch 1: val_loss improved from inf to 1.32540, saving model to chestmodel.hdf5\n",
            "20/20 [==============================] - 14s 306ms/step - loss: 1.3185 - acc: 0.3507 - val_loss: 1.3254 - val_acc: 0.3750\n",
            "Epoch 2/80\n",
            "20/20 [==============================] - ETA: 0s - loss: 1.2013 - acc: 0.4502\n",
            "Epoch 2: val_loss improved from 1.32540 to 1.27312, saving model to chestmodel.hdf5\n",
            "20/20 [==============================] - 5s 258ms/step - loss: 1.2013 - acc: 0.4502 - val_loss: 1.2731 - val_acc: 0.4028\n",
            "Epoch 3/80\n",
            "20/20 [==============================] - ETA: 0s - loss: 1.1299 - acc: 0.4861\n",
            "Epoch 3: val_loss improved from 1.27312 to 1.25380, saving model to chestmodel.hdf5\n",
            "20/20 [==============================] - 5s 272ms/step - loss: 1.1299 - acc: 0.4861 - val_loss: 1.2538 - val_acc: 0.4028\n",
            "Epoch 4/80\n",
            "20/20 [==============================] - ETA: 0s - loss: 1.0788 - acc: 0.5269\n",
            "Epoch 4: val_loss improved from 1.25380 to 1.15746, saving model to chestmodel.hdf5\n",
            "20/20 [==============================] - 5s 256ms/step - loss: 1.0788 - acc: 0.5269 - val_loss: 1.1575 - val_acc: 0.4861\n",
            "Epoch 5/80\n",
            "20/20 [==============================] - ETA: 0s - loss: 1.0033 - acc: 0.5824\n",
            "Epoch 5: val_loss improved from 1.15746 to 1.08678, saving model to chestmodel.hdf5\n",
            "20/20 [==============================] - 5s 261ms/step - loss: 1.0033 - acc: 0.5824 - val_loss: 1.0868 - val_acc: 0.5417\n",
            "Epoch 6/80\n",
            "19/20 [===========================>..] - ETA: 0s - loss: 0.9404 - acc: 0.6086\n",
            "Epoch 6: val_loss improved from 1.08678 to 1.07170, saving model to chestmodel.hdf5\n",
            "20/20 [==============================] - 5s 271ms/step - loss: 0.9397 - acc: 0.6101 - val_loss: 1.0717 - val_acc: 0.5000\n",
            "Epoch 7/80\n",
            "20/20 [==============================] - ETA: 0s - loss: 0.9161 - acc: 0.6199\n",
            "Epoch 7: val_loss improved from 1.07170 to 1.06435, saving model to chestmodel.hdf5\n",
            "20/20 [==============================] - 6s 297ms/step - loss: 0.9161 - acc: 0.6199 - val_loss: 1.0644 - val_acc: 0.5556\n",
            "Epoch 8/80\n",
            "20/20 [==============================] - ETA: 0s - loss: 0.8599 - acc: 0.6591\n",
            "Epoch 8: val_loss improved from 1.06435 to 0.97650, saving model to chestmodel.hdf5\n",
            "20/20 [==============================] - 5s 257ms/step - loss: 0.8599 - acc: 0.6591 - val_loss: 0.9765 - val_acc: 0.5972\n",
            "Epoch 9/80\n",
            "20/20 [==============================] - ETA: 0s - loss: 0.8320 - acc: 0.6852\n",
            "Epoch 9: val_loss improved from 0.97650 to 0.92263, saving model to chestmodel.hdf5\n",
            "20/20 [==============================] - 5s 260ms/step - loss: 0.8320 - acc: 0.6852 - val_loss: 0.9226 - val_acc: 0.6389\n",
            "Epoch 10/80\n",
            "20/20 [==============================] - ETA: 0s - loss: 0.8036 - acc: 0.6835\n",
            "Epoch 10: val_loss improved from 0.92263 to 0.91931, saving model to chestmodel.hdf5\n",
            "20/20 [==============================] - 5s 255ms/step - loss: 0.8036 - acc: 0.6835 - val_loss: 0.9193 - val_acc: 0.5833\n",
            "Epoch 11/80\n",
            "20/20 [==============================] - ETA: 0s - loss: 0.7475 - acc: 0.7162\n",
            "Epoch 11: val_loss improved from 0.91931 to 0.87357, saving model to chestmodel.hdf5\n",
            "20/20 [==============================] - 5s 258ms/step - loss: 0.7475 - acc: 0.7162 - val_loss: 0.8736 - val_acc: 0.6389\n",
            "Epoch 12/80\n",
            "20/20 [==============================] - ETA: 0s - loss: 0.7061 - acc: 0.7357\n",
            "Epoch 12: val_loss did not improve from 0.87357\n",
            "20/20 [==============================] - 4s 198ms/step - loss: 0.7061 - acc: 0.7357 - val_loss: 0.9085 - val_acc: 0.5556\n",
            "Epoch 13/80\n",
            "20/20 [==============================] - ETA: 0s - loss: 0.6855 - acc: 0.7700\n",
            "Epoch 13: val_loss did not improve from 0.87357\n",
            "20/20 [==============================] - 4s 196ms/step - loss: 0.6855 - acc: 0.7700 - val_loss: 0.8762 - val_acc: 0.6389\n",
            "Epoch 14/80\n",
            "20/20 [==============================] - ETA: 0s - loss: 0.6920 - acc: 0.7357\n",
            "Epoch 14: val_loss improved from 0.87357 to 0.82617, saving model to chestmodel.hdf5\n",
            "20/20 [==============================] - 5s 256ms/step - loss: 0.6920 - acc: 0.7357 - val_loss: 0.8262 - val_acc: 0.6944\n",
            "Epoch 15/80\n",
            "20/20 [==============================] - ETA: 0s - loss: 0.6272 - acc: 0.7863\n",
            "Epoch 15: val_loss improved from 0.82617 to 0.80604, saving model to chestmodel.hdf5\n",
            "20/20 [==============================] - 5s 267ms/step - loss: 0.6272 - acc: 0.7863 - val_loss: 0.8060 - val_acc: 0.6389\n",
            "Epoch 16/80\n",
            "20/20 [==============================] - ETA: 0s - loss: 0.6248 - acc: 0.7749\n",
            "Epoch 16: val_loss did not improve from 0.80604\n",
            "20/20 [==============================] - 4s 196ms/step - loss: 0.6248 - acc: 0.7749 - val_loss: 0.8376 - val_acc: 0.6806\n",
            "Epoch 17/80\n",
            "20/20 [==============================] - ETA: 0s - loss: 0.6082 - acc: 0.7667\n",
            "Epoch 17: val_loss improved from 0.80604 to 0.76848, saving model to chestmodel.hdf5\n",
            "20/20 [==============================] - 5s 264ms/step - loss: 0.6082 - acc: 0.7667 - val_loss: 0.7685 - val_acc: 0.6806\n",
            "Epoch 18/80\n",
            "20/20 [==============================] - ETA: 0s - loss: 0.5735 - acc: 0.8140\n",
            "Epoch 18: val_loss improved from 0.76848 to 0.75882, saving model to chestmodel.hdf5\n",
            "20/20 [==============================] - 5s 254ms/step - loss: 0.5735 - acc: 0.8140 - val_loss: 0.7588 - val_acc: 0.6944\n",
            "Epoch 19/80\n",
            "20/20 [==============================] - ETA: 0s - loss: 0.5610 - acc: 0.8303\n",
            "Epoch 19: val_loss improved from 0.75882 to 0.72439, saving model to chestmodel.hdf5\n",
            "20/20 [==============================] - 5s 255ms/step - loss: 0.5610 - acc: 0.8303 - val_loss: 0.7244 - val_acc: 0.6944\n",
            "Epoch 20/80\n",
            "20/20 [==============================] - ETA: 0s - loss: 0.5279 - acc: 0.8287\n",
            "Epoch 20: val_loss improved from 0.72439 to 0.71873, saving model to chestmodel.hdf5\n",
            "20/20 [==============================] - 5s 255ms/step - loss: 0.5279 - acc: 0.8287 - val_loss: 0.7187 - val_acc: 0.7083\n",
            "Epoch 21/80\n",
            "20/20 [==============================] - ETA: 0s - loss: 0.5046 - acc: 0.8581\n",
            "Epoch 21: val_loss improved from 0.71873 to 0.71219, saving model to chestmodel.hdf5\n",
            "20/20 [==============================] - 5s 258ms/step - loss: 0.5046 - acc: 0.8581 - val_loss: 0.7122 - val_acc: 0.6944\n",
            "Epoch 22/80\n",
            "20/20 [==============================] - ETA: 0s - loss: 0.4884 - acc: 0.8418\n",
            "Epoch 22: val_loss improved from 0.71219 to 0.70184, saving model to chestmodel.hdf5\n",
            "20/20 [==============================] - 5s 255ms/step - loss: 0.4884 - acc: 0.8418 - val_loss: 0.7018 - val_acc: 0.7500\n",
            "Epoch 23/80\n",
            "20/20 [==============================] - ETA: 0s - loss: 0.4748 - acc: 0.8418\n",
            "Epoch 23: val_loss did not improve from 0.70184\n",
            "20/20 [==============================] - 4s 197ms/step - loss: 0.4748 - acc: 0.8418 - val_loss: 0.7222 - val_acc: 0.7083\n",
            "Epoch 24/80\n",
            "20/20 [==============================] - ETA: 0s - loss: 0.4630 - acc: 0.8499\n",
            "Epoch 24: val_loss improved from 0.70184 to 0.67863, saving model to chestmodel.hdf5\n",
            "20/20 [==============================] - 5s 254ms/step - loss: 0.4630 - acc: 0.8499 - val_loss: 0.6786 - val_acc: 0.7361\n",
            "Epoch 25/80\n",
            "20/20 [==============================] - ETA: 0s - loss: 0.4301 - acc: 0.8793\n",
            "Epoch 25: val_loss did not improve from 0.67863\n",
            "20/20 [==============================] - 4s 200ms/step - loss: 0.4301 - acc: 0.8793 - val_loss: 0.6919 - val_acc: 0.7222\n",
            "Epoch 26/80\n",
            "20/20 [==============================] - ETA: 0s - loss: 0.4351 - acc: 0.8825\n",
            "Epoch 26: val_loss improved from 0.67863 to 0.66808, saving model to chestmodel.hdf5\n",
            "20/20 [==============================] - 5s 258ms/step - loss: 0.4351 - acc: 0.8825 - val_loss: 0.6681 - val_acc: 0.6944\n",
            "Epoch 27/80\n",
            "20/20 [==============================] - ETA: 0s - loss: 0.4197 - acc: 0.8728\n",
            "Epoch 27: val_loss did not improve from 0.66808\n",
            "20/20 [==============================] - 4s 197ms/step - loss: 0.4197 - acc: 0.8728 - val_loss: 0.7236 - val_acc: 0.6667\n",
            "Epoch 28/80\n",
            "20/20 [==============================] - ETA: 0s - loss: 0.4136 - acc: 0.8760\n",
            "Epoch 28: val_loss did not improve from 0.66808\n",
            "20/20 [==============================] - 4s 200ms/step - loss: 0.4136 - acc: 0.8760 - val_loss: 0.6893 - val_acc: 0.7222\n",
            "Epoch 29/80\n",
            "19/20 [===========================>..] - ETA: 0s - loss: 0.3867 - acc: 0.9013\n",
            "Epoch 29: val_loss improved from 0.66808 to 0.63835, saving model to chestmodel.hdf5\n",
            "20/20 [==============================] - 5s 261ms/step - loss: 0.3844 - acc: 0.9021 - val_loss: 0.6384 - val_acc: 0.8056\n",
            "Epoch 30/80\n",
            "20/20 [==============================] - ETA: 0s - loss: 0.4126 - acc: 0.8711\n",
            "Epoch 30: val_loss did not improve from 0.63835\n",
            "20/20 [==============================] - 4s 196ms/step - loss: 0.4126 - acc: 0.8711 - val_loss: 0.6573 - val_acc: 0.7361\n",
            "Epoch 31/80\n",
            "20/20 [==============================] - ETA: 0s - loss: 0.4043 - acc: 0.8646\n",
            "Epoch 31: val_loss improved from 0.63835 to 0.60249, saving model to chestmodel.hdf5\n",
            "20/20 [==============================] - 5s 255ms/step - loss: 0.4043 - acc: 0.8646 - val_loss: 0.6025 - val_acc: 0.8056\n",
            "Epoch 32/80\n",
            "20/20 [==============================] - ETA: 0s - loss: 0.3546 - acc: 0.9086\n",
            "Epoch 32: val_loss improved from 0.60249 to 0.59494, saving model to chestmodel.hdf5\n",
            "20/20 [==============================] - 5s 256ms/step - loss: 0.3546 - acc: 0.9086 - val_loss: 0.5949 - val_acc: 0.7778\n",
            "Epoch 33/80\n",
            "20/20 [==============================] - ETA: 0s - loss: 0.3497 - acc: 0.9021\n",
            "Epoch 33: val_loss did not improve from 0.59494\n",
            "20/20 [==============================] - 4s 199ms/step - loss: 0.3497 - acc: 0.9021 - val_loss: 0.6342 - val_acc: 0.7778\n",
            "Epoch 34/80\n",
            "20/20 [==============================] - ETA: 0s - loss: 0.3603 - acc: 0.8809\n",
            "Epoch 34: val_loss did not improve from 0.59494\n",
            "20/20 [==============================] - 4s 199ms/step - loss: 0.3603 - acc: 0.8809 - val_loss: 0.6791 - val_acc: 0.7361\n",
            "Epoch 35/80\n",
            "20/20 [==============================] - ETA: 0s - loss: 0.3531 - acc: 0.8891\n",
            "Epoch 35: val_loss did not improve from 0.59494\n",
            "20/20 [==============================] - 4s 198ms/step - loss: 0.3531 - acc: 0.8891 - val_loss: 0.6332 - val_acc: 0.7500\n",
            "Epoch 36/80\n",
            "20/20 [==============================] - ETA: 0s - loss: 0.3191 - acc: 0.9021\n",
            "Epoch 36: val_loss did not improve from 0.59494\n",
            "20/20 [==============================] - 4s 198ms/step - loss: 0.3191 - acc: 0.9021 - val_loss: 0.6858 - val_acc: 0.7083\n",
            "Epoch 37/80\n",
            "20/20 [==============================] - ETA: 0s - loss: 0.3189 - acc: 0.9070\n",
            "Epoch 37: val_loss did not improve from 0.59494\n",
            "20/20 [==============================] - 4s 199ms/step - loss: 0.3189 - acc: 0.9070 - val_loss: 0.6241 - val_acc: 0.7500\n",
            "Epoch 38/80\n",
            "20/20 [==============================] - ETA: 0s - loss: 0.2986 - acc: 0.9282\n",
            "Epoch 38: val_loss did not improve from 0.59494\n",
            "20/20 [==============================] - 4s 200ms/step - loss: 0.2986 - acc: 0.9282 - val_loss: 0.6626 - val_acc: 0.7083\n",
            "Epoch 39/80\n",
            "20/20 [==============================] - ETA: 0s - loss: 0.3014 - acc: 0.9119\n",
            "Epoch 39: val_loss improved from 0.59494 to 0.58773, saving model to chestmodel.hdf5\n",
            "20/20 [==============================] - 5s 253ms/step - loss: 0.3014 - acc: 0.9119 - val_loss: 0.5877 - val_acc: 0.7639\n",
            "Epoch 40/80\n",
            "20/20 [==============================] - ETA: 0s - loss: 0.2986 - acc: 0.9086\n",
            "Epoch 40: val_loss did not improve from 0.58773\n",
            "20/20 [==============================] - 4s 202ms/step - loss: 0.2986 - acc: 0.9086 - val_loss: 0.6098 - val_acc: 0.7500\n",
            "Epoch 41/80\n",
            "20/20 [==============================] - ETA: 0s - loss: 0.2974 - acc: 0.9038\n",
            "Epoch 41: val_loss improved from 0.58773 to 0.57508, saving model to chestmodel.hdf5\n",
            "20/20 [==============================] - 6s 278ms/step - loss: 0.2974 - acc: 0.9038 - val_loss: 0.5751 - val_acc: 0.7917\n",
            "Epoch 42/80\n",
            "20/20 [==============================] - ETA: 0s - loss: 0.2870 - acc: 0.9250\n",
            "Epoch 42: val_loss improved from 0.57508 to 0.56992, saving model to chestmodel.hdf5\n",
            "20/20 [==============================] - 5s 273ms/step - loss: 0.2870 - acc: 0.9250 - val_loss: 0.5699 - val_acc: 0.7361\n",
            "Epoch 43/80\n",
            "20/20 [==============================] - ETA: 0s - loss: 0.2610 - acc: 0.9413\n",
            "Epoch 43: val_loss did not improve from 0.56992\n",
            "20/20 [==============================] - 4s 198ms/step - loss: 0.2610 - acc: 0.9413 - val_loss: 0.6216 - val_acc: 0.7222\n",
            "Epoch 44/80\n",
            "20/20 [==============================] - ETA: 0s - loss: 0.2518 - acc: 0.9331\n",
            "Epoch 44: val_loss did not improve from 0.56992\n",
            "20/20 [==============================] - 4s 198ms/step - loss: 0.2518 - acc: 0.9331 - val_loss: 0.6344 - val_acc: 0.7222\n",
            "Epoch 45/80\n",
            "19/20 [===========================>..] - ETA: 0s - loss: 0.2649 - acc: 0.9194\n",
            "Epoch 45: val_loss did not improve from 0.56992\n",
            "20/20 [==============================] - 4s 197ms/step - loss: 0.2651 - acc: 0.9184 - val_loss: 0.6270 - val_acc: 0.7222\n",
            "Epoch 46/80\n",
            "20/20 [==============================] - ETA: 0s - loss: 0.2448 - acc: 0.9543\n",
            "Epoch 46: val_loss did not improve from 0.56992\n",
            "20/20 [==============================] - 4s 199ms/step - loss: 0.2448 - acc: 0.9543 - val_loss: 0.5905 - val_acc: 0.7778\n",
            "Epoch 47/80\n",
            "20/20 [==============================] - ETA: 0s - loss: 0.2328 - acc: 0.9396\n",
            "Epoch 47: val_loss improved from 0.56992 to 0.56753, saving model to chestmodel.hdf5\n",
            "20/20 [==============================] - 5s 253ms/step - loss: 0.2328 - acc: 0.9396 - val_loss: 0.5675 - val_acc: 0.8056\n",
            "Epoch 48/80\n",
            "20/20 [==============================] - ETA: 0s - loss: 0.2259 - acc: 0.9576\n",
            "Epoch 48: val_loss did not improve from 0.56753\n",
            "20/20 [==============================] - 4s 198ms/step - loss: 0.2259 - acc: 0.9576 - val_loss: 0.5816 - val_acc: 0.7639\n",
            "Epoch 49/80\n",
            "20/20 [==============================] - ETA: 0s - loss: 0.2193 - acc: 0.9511\n",
            "Epoch 49: val_loss did not improve from 0.56753\n",
            "20/20 [==============================] - 4s 199ms/step - loss: 0.2193 - acc: 0.9511 - val_loss: 0.5991 - val_acc: 0.7639\n",
            "Epoch 50/80\n",
            "20/20 [==============================] - ETA: 0s - loss: 0.2130 - acc: 0.9560\n",
            "Epoch 50: val_loss did not improve from 0.56753\n",
            "20/20 [==============================] - 4s 197ms/step - loss: 0.2130 - acc: 0.9560 - val_loss: 0.5808 - val_acc: 0.7639\n",
            "Epoch 51/80\n",
            "19/20 [===========================>..] - ETA: 0s - loss: 0.2236 - acc: 0.9474\n",
            "Epoch 51: val_loss did not improve from 0.56753\n",
            "20/20 [==============================] - 4s 196ms/step - loss: 0.2219 - acc: 0.9478 - val_loss: 0.5813 - val_acc: 0.7639\n",
            "Epoch 52/80\n",
            "20/20 [==============================] - ETA: 0s - loss: 0.2152 - acc: 0.9511\n",
            "Epoch 52: val_loss did not improve from 0.56753\n",
            "20/20 [==============================] - 4s 197ms/step - loss: 0.2152 - acc: 0.9511 - val_loss: 0.5943 - val_acc: 0.7778\n",
            "Epoch 53/80\n",
            "20/20 [==============================] - ETA: 0s - loss: 0.2089 - acc: 0.9543\n",
            "Epoch 53: val_loss did not improve from 0.56753\n",
            "20/20 [==============================] - 4s 201ms/step - loss: 0.2089 - acc: 0.9543 - val_loss: 0.5782 - val_acc: 0.7500\n",
            "Epoch 54/80\n",
            "20/20 [==============================] - ETA: 0s - loss: 0.2032 - acc: 0.9576\n",
            "Epoch 54: val_loss improved from 0.56753 to 0.56696, saving model to chestmodel.hdf5\n",
            "20/20 [==============================] - 5s 255ms/step - loss: 0.2032 - acc: 0.9576 - val_loss: 0.5670 - val_acc: 0.7500\n",
            "Epoch 55/80\n",
            "19/20 [===========================>..] - ETA: 0s - loss: 0.1977 - acc: 0.9523\n",
            "Epoch 55: val_loss improved from 0.56696 to 0.56092, saving model to chestmodel.hdf5\n",
            "20/20 [==============================] - 5s 263ms/step - loss: 0.1967 - acc: 0.9527 - val_loss: 0.5609 - val_acc: 0.7778\n",
            "Epoch 56/80\n",
            "20/20 [==============================] - ETA: 0s - loss: 0.1899 - acc: 0.9690\n",
            "Epoch 56: val_loss did not improve from 0.56092\n",
            "20/20 [==============================] - 4s 198ms/step - loss: 0.1899 - acc: 0.9690 - val_loss: 0.5630 - val_acc: 0.7639\n",
            "Epoch 57/80\n",
            "20/20 [==============================] - ETA: 0s - loss: 0.1852 - acc: 0.9608\n",
            "Epoch 57: val_loss did not improve from 0.56092\n",
            "20/20 [==============================] - 4s 198ms/step - loss: 0.1852 - acc: 0.9608 - val_loss: 0.5909 - val_acc: 0.7778\n",
            "Epoch 58/80\n",
            "20/20 [==============================] - ETA: 0s - loss: 0.1944 - acc: 0.9592\n",
            "Epoch 58: val_loss improved from 0.56092 to 0.55917, saving model to chestmodel.hdf5\n",
            "20/20 [==============================] - 5s 267ms/step - loss: 0.1944 - acc: 0.9592 - val_loss: 0.5592 - val_acc: 0.8194\n",
            "Epoch 59/80\n",
            "20/20 [==============================] - ETA: 0s - loss: 0.1787 - acc: 0.9625\n",
            "Epoch 59: val_loss did not improve from 0.55917\n",
            "20/20 [==============================] - 4s 196ms/step - loss: 0.1787 - acc: 0.9625 - val_loss: 0.5964 - val_acc: 0.7639\n",
            "Epoch 60/80\n",
            "20/20 [==============================] - ETA: 0s - loss: 0.1691 - acc: 0.9739\n",
            "Epoch 60: val_loss did not improve from 0.55917\n",
            "20/20 [==============================] - 4s 196ms/step - loss: 0.1691 - acc: 0.9739 - val_loss: 0.5723 - val_acc: 0.7778\n",
            "Epoch 61/80\n",
            "20/20 [==============================] - ETA: 0s - loss: 0.1664 - acc: 0.9657\n",
            "Epoch 61: val_loss did not improve from 0.55917\n",
            "20/20 [==============================] - 4s 200ms/step - loss: 0.1664 - acc: 0.9657 - val_loss: 0.6244 - val_acc: 0.7639\n",
            "Epoch 62/80\n",
            "20/20 [==============================] - ETA: 0s - loss: 0.1808 - acc: 0.9592\n",
            "Epoch 62: val_loss improved from 0.55917 to 0.53649, saving model to chestmodel.hdf5\n",
            "20/20 [==============================] - 5s 265ms/step - loss: 0.1808 - acc: 0.9592 - val_loss: 0.5365 - val_acc: 0.7917\n",
            "Epoch 63/80\n",
            "20/20 [==============================] - ETA: 0s - loss: 0.1579 - acc: 0.9739\n",
            "Epoch 63: val_loss did not improve from 0.53649\n",
            "20/20 [==============================] - 4s 197ms/step - loss: 0.1579 - acc: 0.9739 - val_loss: 0.5634 - val_acc: 0.7778\n",
            "Epoch 64/80\n",
            "19/20 [===========================>..] - ETA: 0s - loss: 0.1500 - acc: 0.9688\n",
            "Epoch 64: val_loss did not improve from 0.53649\n",
            "20/20 [==============================] - 4s 200ms/step - loss: 0.1494 - acc: 0.9690 - val_loss: 0.5662 - val_acc: 0.7639\n",
            "Epoch 65/80\n",
            "20/20 [==============================] - ETA: 0s - loss: 0.1568 - acc: 0.9625\n",
            "Epoch 65: val_loss did not improve from 0.53649\n",
            "20/20 [==============================] - 4s 208ms/step - loss: 0.1568 - acc: 0.9625 - val_loss: 0.6181 - val_acc: 0.7361\n",
            "Epoch 66/80\n",
            "20/20 [==============================] - ETA: 0s - loss: 0.1687 - acc: 0.9641\n",
            "Epoch 66: val_loss did not improve from 0.53649\n",
            "20/20 [==============================] - 4s 208ms/step - loss: 0.1687 - acc: 0.9641 - val_loss: 0.6408 - val_acc: 0.7083\n",
            "Epoch 67/80\n",
            "20/20 [==============================] - ETA: 0s - loss: 0.1455 - acc: 0.9723\n",
            "Epoch 67: val_loss did not improve from 0.53649\n",
            "20/20 [==============================] - 4s 200ms/step - loss: 0.1455 - acc: 0.9723 - val_loss: 0.5700 - val_acc: 0.7639\n",
            "Epoch 68/80\n",
            "20/20 [==============================] - ETA: 0s - loss: 0.1530 - acc: 0.9706\n",
            "Epoch 68: val_loss improved from 0.53649 to 0.53617, saving model to chestmodel.hdf5\n",
            "20/20 [==============================] - 5s 264ms/step - loss: 0.1530 - acc: 0.9706 - val_loss: 0.5362 - val_acc: 0.8056\n",
            "Epoch 69/80\n",
            "20/20 [==============================] - ETA: 0s - loss: 0.1436 - acc: 0.9772\n",
            "Epoch 69: val_loss did not improve from 0.53617\n",
            "20/20 [==============================] - 4s 195ms/step - loss: 0.1436 - acc: 0.9772 - val_loss: 0.6011 - val_acc: 0.7500\n",
            "Epoch 70/80\n",
            "20/20 [==============================] - ETA: 0s - loss: 0.1365 - acc: 0.9723\n",
            "Epoch 70: val_loss did not improve from 0.53617\n",
            "20/20 [==============================] - 4s 199ms/step - loss: 0.1365 - acc: 0.9723 - val_loss: 0.5795 - val_acc: 0.7778\n",
            "Epoch 71/80\n",
            "20/20 [==============================] - ETA: 0s - loss: 0.1370 - acc: 0.9706\n",
            "Epoch 71: val_loss did not improve from 0.53617\n",
            "20/20 [==============================] - 4s 199ms/step - loss: 0.1370 - acc: 0.9706 - val_loss: 0.5578 - val_acc: 0.8194\n",
            "Epoch 72/80\n",
            "20/20 [==============================] - ETA: 0s - loss: 0.1408 - acc: 0.9739\n",
            "Epoch 72: val_loss did not improve from 0.53617\n",
            "20/20 [==============================] - 4s 200ms/step - loss: 0.1408 - acc: 0.9739 - val_loss: 0.5432 - val_acc: 0.8056\n",
            "Epoch 73/80\n",
            "20/20 [==============================] - ETA: 0s - loss: 0.1470 - acc: 0.9706\n",
            "Epoch 73: val_loss improved from 0.53617 to 0.53321, saving model to chestmodel.hdf5\n",
            "20/20 [==============================] - 5s 266ms/step - loss: 0.1470 - acc: 0.9706 - val_loss: 0.5332 - val_acc: 0.8056\n",
            "Epoch 74/80\n",
            "20/20 [==============================] - ETA: 0s - loss: 0.1335 - acc: 0.9674\n",
            "Epoch 74: val_loss improved from 0.53321 to 0.51835, saving model to chestmodel.hdf5\n",
            "20/20 [==============================] - 5s 258ms/step - loss: 0.1335 - acc: 0.9674 - val_loss: 0.5184 - val_acc: 0.8194\n",
            "Epoch 75/80\n",
            "20/20 [==============================] - ETA: 0s - loss: 0.1252 - acc: 0.9772\n",
            "Epoch 75: val_loss did not improve from 0.51835\n",
            "20/20 [==============================] - 4s 200ms/step - loss: 0.1252 - acc: 0.9772 - val_loss: 0.6004 - val_acc: 0.7500\n",
            "Epoch 76/80\n",
            "20/20 [==============================] - ETA: 0s - loss: 0.1233 - acc: 0.9804\n",
            "Epoch 76: val_loss did not improve from 0.51835\n",
            "20/20 [==============================] - 4s 200ms/step - loss: 0.1233 - acc: 0.9804 - val_loss: 0.5383 - val_acc: 0.8194\n",
            "Epoch 77/80\n",
            "20/20 [==============================] - ETA: 0s - loss: 0.1210 - acc: 0.9804\n",
            "Epoch 77: val_loss did not improve from 0.51835\n",
            "20/20 [==============================] - 4s 200ms/step - loss: 0.1210 - acc: 0.9804 - val_loss: 0.5382 - val_acc: 0.7778\n",
            "Epoch 78/80\n",
            "20/20 [==============================] - ETA: 0s - loss: 0.1074 - acc: 0.9918\n",
            "Epoch 78: val_loss did not improve from 0.51835\n",
            "20/20 [==============================] - 4s 204ms/step - loss: 0.1074 - acc: 0.9918 - val_loss: 0.5461 - val_acc: 0.7778\n",
            "Epoch 79/80\n",
            "20/20 [==============================] - ETA: 0s - loss: 0.1168 - acc: 0.9869\n",
            "Epoch 79: val_loss did not improve from 0.51835\n",
            "20/20 [==============================] - 4s 202ms/step - loss: 0.1168 - acc: 0.9869 - val_loss: 0.5387 - val_acc: 0.7778\n",
            "Epoch 80/80\n",
            "20/20 [==============================] - ETA: 0s - loss: 0.1169 - acc: 0.9772\n",
            "Epoch 80: val_loss did not improve from 0.51835\n",
            "20/20 [==============================] - 4s 204ms/step - loss: 0.1169 - acc: 0.9772 - val_loss: 0.5698 - val_acc: 0.8056\n"
          ]
        }
      ]
    },
    {
      "cell_type": "code",
      "source": [
        "result = first_model.evaluate(test_generator)"
      ],
      "metadata": {
        "colab": {
          "base_uri": "https://localhost:8080/"
        },
        "id": "REF5_PamLsUU",
        "outputId": "174eed1f-0fce-4a02-c4f8-e4c9c4b4c06f"
      },
      "execution_count": 15,
      "outputs": [
        {
          "output_type": "stream",
          "name": "stdout",
          "text": [
            "10/10 [==============================] - 4s 422ms/step - loss: 1.2530 - acc: 0.5714\n"
          ]
        }
      ]
    },
    {
      "cell_type": "code",
      "source": [
        "image_shape = (460,460,3)\n",
        "N_CLASSES = 4\n",
        "BATCH_SIZE = 32\n",
        "\n",
        "train_datagen = ImageDataGenerator(dtype='float32', preprocessing_function=densenet.preprocess_input)\n",
        "train_generator = train_datagen.flow_from_directory(train_path,\n",
        "                                                   batch_size = BATCH_SIZE,\n",
        "                                                   target_size = (460,460),\n",
        "                                                   class_mode = 'categorical')\n",
        "\n",
        "valid_datagen = ImageDataGenerator(dtype='float32', preprocessing_function=densenet.preprocess_input)\n",
        "valid_generator = valid_datagen.flow_from_directory(valid_path,\n",
        "                                                   batch_size = BATCH_SIZE,\n",
        "                                                   target_size = (460,460),\n",
        "                                                   class_mode = 'categorical')\n",
        "\n",
        "test_datagen = ImageDataGenerator(dtype='float32', preprocessing_function=densenet.preprocess_input)\n",
        "test_generator = test_datagen.flow_from_directory(test_path,\n",
        "                                                   batch_size = BATCH_SIZE,\n",
        "                                                   target_size = (460,460),\n",
        "                                                   class_mode = 'categorical')"
      ],
      "metadata": {
        "colab": {
          "base_uri": "https://localhost:8080/"
        },
        "id": "05WBr71rLuT9",
        "outputId": "30c5dbf3-75d9-48c4-afa9-b1635259f64e"
      },
      "execution_count": 16,
      "outputs": [
        {
          "output_type": "stream",
          "name": "stdout",
          "text": [
            "Found 613 images belonging to 4 classes.\n",
            "Found 72 images belonging to 4 classes.\n",
            "Found 315 images belonging to 4 classes.\n"
          ]
        }
      ]
    },
    {
      "cell_type": "code",
      "source": [
        "dense_model = DenseNet201(include_top=False, pooling='avg', weights='imagenet', input_shape = (image_shape))\n",
        "\n",
        "# make all layers except conv5 layers not trainable\n",
        "for layer in dense_model.layers:\n",
        "    if 'conv5' not in layer.name:\n",
        "        layer.trainable = False"
      ],
      "metadata": {
        "colab": {
          "base_uri": "https://localhost:8080/"
        },
        "id": "oYhzo2azLxYv",
        "outputId": "ad0107ff-b665-458a-b902-0a0b56c7d3be"
      },
      "execution_count": 17,
      "outputs": [
        {
          "output_type": "stream",
          "name": "stdout",
          "text": [
            "Downloading data from https://storage.googleapis.com/tensorflow/keras-applications/densenet/densenet201_weights_tf_dim_ordering_tf_kernels_notop.h5\n",
            "74836368/74836368 [==============================] - 4s 0us/step\n"
          ]
        }
      ]
    },
    {
      "cell_type": "code",
      "source": [
        "densenet_model = Sequential()\n",
        "densenet_model.add(dense_model)\n",
        "densenet_model.add(Flatten())\n",
        "densenet_model.add(BatchNormalization())\n",
        "densenet_model.add(Dense(N_CLASSES, activation='softmax'))\n",
        "densenet_model.summary()"
      ],
      "metadata": {
        "colab": {
          "base_uri": "https://localhost:8080/"
        },
        "id": "sOe2BS0cJ1ob",
        "outputId": "f8c08553-c1d5-4a2e-b54a-4a2b53c1cd4a"
      },
      "execution_count": 18,
      "outputs": [
        {
          "output_type": "stream",
          "name": "stdout",
          "text": [
            "Model: \"sequential_1\"\n",
            "_________________________________________________________________\n",
            " Layer (type)                Output Shape              Param #   \n",
            "=================================================================\n",
            " densenet201 (Functional)    (None, 1920)              18321984  \n",
            "                                                                 \n",
            " flatten_1 (Flatten)         (None, 1920)              0         \n",
            "                                                                 \n",
            " batch_normalization (BatchN  (None, 1920)             7680      \n",
            " ormalization)                                                   \n",
            "                                                                 \n",
            " dense_2 (Dense)             (None, 4)                 7684      \n",
            "                                                                 \n",
            "=================================================================\n",
            "Total params: 18,337,348\n",
            "Trainable params: 6,990,084\n",
            "Non-trainable params: 11,347,264\n",
            "_________________________________________________________________\n"
          ]
        }
      ]
    },
    {
      "cell_type": "code",
      "source": [
        "optimizer = optimizers.Adam(learning_rate= 0.00001, decay= 1e-6)\n",
        "densenet_model.compile(optimizer=optimizer, loss = 'categorical_crossentropy', metrics = ['acc'])\n",
        "\n",
        "checkpointer = ModelCheckpoint(filepath='./chestmodel-DenseNet201.hdf5',\n",
        "                            monitor='val_loss', verbose = 1,\n",
        "                            save_best_only=True)\n",
        "early_stopping = EarlyStopping(verbose=1, patience=15)"
      ],
      "metadata": {
        "id": "G8Oz8hURQort"
      },
      "execution_count": 19,
      "outputs": []
    },
    {
      "cell_type": "code",
      "source": [
        "history_dense = densenet_model.fit(train_generator,\n",
        "                                steps_per_epoch = 20,\n",
        "                                epochs = 80,\n",
        "                                verbose = 1,\n",
        "                                validation_data = valid_generator,\n",
        "                                callbacks = [checkpointer, early_stopping])"
      ],
      "metadata": {
        "colab": {
          "base_uri": "https://localhost:8080/"
        },
        "id": "k7DQJy4jQoo3",
        "outputId": "f3ebf6e2-3c6a-469f-a5fa-481b11cec3c9"
      },
      "execution_count": 20,
      "outputs": [
        {
          "output_type": "stream",
          "name": "stdout",
          "text": [
            "Epoch 1/80\n",
            "20/20 [==============================] - ETA: 0s - loss: 1.3189 - acc: 0.4029\n",
            "Epoch 1: val_loss improved from inf to 1.36090, saving model to ./chestmodel-DenseNet201.hdf5\n",
            "20/20 [==============================] - 47s 1s/step - loss: 1.3189 - acc: 0.4029 - val_loss: 1.3609 - val_acc: 0.3194\n",
            "Epoch 2/80\n",
            "20/20 [==============================] - ETA: 0s - loss: 0.7639 - acc: 0.7276\n",
            "Epoch 2: val_loss improved from 1.36090 to 1.27050, saving model to ./chestmodel-DenseNet201.hdf5\n",
            "20/20 [==============================] - 16s 786ms/step - loss: 0.7639 - acc: 0.7276 - val_loss: 1.2705 - val_acc: 0.4722\n",
            "Epoch 3/80\n",
            "20/20 [==============================] - ETA: 0s - loss: 0.5523 - acc: 0.8303\n",
            "Epoch 3: val_loss improved from 1.27050 to 1.20172, saving model to ./chestmodel-DenseNet201.hdf5\n",
            "20/20 [==============================] - 16s 794ms/step - loss: 0.5523 - acc: 0.8303 - val_loss: 1.2017 - val_acc: 0.4722\n",
            "Epoch 4/80\n",
            "20/20 [==============================] - ETA: 0s - loss: 0.4059 - acc: 0.9070\n",
            "Epoch 4: val_loss improved from 1.20172 to 1.14289, saving model to ./chestmodel-DenseNet201.hdf5\n",
            "20/20 [==============================] - 16s 798ms/step - loss: 0.4059 - acc: 0.9070 - val_loss: 1.1429 - val_acc: 0.4861\n",
            "Epoch 5/80\n",
            "20/20 [==============================] - ETA: 0s - loss: 0.3196 - acc: 0.9462\n",
            "Epoch 5: val_loss improved from 1.14289 to 1.06952, saving model to ./chestmodel-DenseNet201.hdf5\n",
            "20/20 [==============================] - 16s 800ms/step - loss: 0.3196 - acc: 0.9462 - val_loss: 1.0695 - val_acc: 0.5417\n",
            "Epoch 6/80\n",
            "20/20 [==============================] - ETA: 0s - loss: 0.2519 - acc: 0.9723\n",
            "Epoch 6: val_loss improved from 1.06952 to 0.99113, saving model to ./chestmodel-DenseNet201.hdf5\n",
            "20/20 [==============================] - 16s 807ms/step - loss: 0.2519 - acc: 0.9723 - val_loss: 0.9911 - val_acc: 0.5972\n",
            "Epoch 7/80\n",
            "20/20 [==============================] - ETA: 0s - loss: 0.2197 - acc: 0.9739\n",
            "Epoch 7: val_loss improved from 0.99113 to 0.90983, saving model to ./chestmodel-DenseNet201.hdf5\n",
            "20/20 [==============================] - 16s 810ms/step - loss: 0.2197 - acc: 0.9739 - val_loss: 0.9098 - val_acc: 0.6528\n",
            "Epoch 8/80\n",
            "20/20 [==============================] - ETA: 0s - loss: 0.1706 - acc: 0.9935\n",
            "Epoch 8: val_loss improved from 0.90983 to 0.85136, saving model to ./chestmodel-DenseNet201.hdf5\n",
            "20/20 [==============================] - 16s 817ms/step - loss: 0.1706 - acc: 0.9935 - val_loss: 0.8514 - val_acc: 0.6528\n",
            "Epoch 9/80\n",
            "20/20 [==============================] - ETA: 0s - loss: 0.1379 - acc: 0.9902\n",
            "Epoch 9: val_loss improved from 0.85136 to 0.79919, saving model to ./chestmodel-DenseNet201.hdf5\n",
            "20/20 [==============================] - 17s 832ms/step - loss: 0.1379 - acc: 0.9902 - val_loss: 0.7992 - val_acc: 0.6944\n",
            "Epoch 10/80\n",
            "20/20 [==============================] - ETA: 0s - loss: 0.1170 - acc: 0.9951\n",
            "Epoch 10: val_loss improved from 0.79919 to 0.73604, saving model to ./chestmodel-DenseNet201.hdf5\n",
            "20/20 [==============================] - 17s 826ms/step - loss: 0.1170 - acc: 0.9951 - val_loss: 0.7360 - val_acc: 0.6944\n",
            "Epoch 11/80\n",
            "20/20 [==============================] - ETA: 0s - loss: 0.1048 - acc: 0.9951\n",
            "Epoch 11: val_loss improved from 0.73604 to 0.68444, saving model to ./chestmodel-DenseNet201.hdf5\n",
            "20/20 [==============================] - 17s 829ms/step - loss: 0.1048 - acc: 0.9951 - val_loss: 0.6844 - val_acc: 0.7361\n",
            "Epoch 12/80\n",
            "20/20 [==============================] - ETA: 0s - loss: 0.0890 - acc: 0.9984\n",
            "Epoch 12: val_loss improved from 0.68444 to 0.65299, saving model to ./chestmodel-DenseNet201.hdf5\n",
            "20/20 [==============================] - 17s 832ms/step - loss: 0.0890 - acc: 0.9984 - val_loss: 0.6530 - val_acc: 0.8056\n",
            "Epoch 13/80\n",
            "20/20 [==============================] - ETA: 0s - loss: 0.0775 - acc: 0.9984\n",
            "Epoch 13: val_loss improved from 0.65299 to 0.60617, saving model to ./chestmodel-DenseNet201.hdf5\n",
            "20/20 [==============================] - 17s 866ms/step - loss: 0.0775 - acc: 0.9984 - val_loss: 0.6062 - val_acc: 0.8056\n",
            "Epoch 14/80\n",
            "20/20 [==============================] - ETA: 0s - loss: 0.0686 - acc: 0.9967\n",
            "Epoch 14: val_loss improved from 0.60617 to 0.56853, saving model to ./chestmodel-DenseNet201.hdf5\n",
            "20/20 [==============================] - 17s 836ms/step - loss: 0.0686 - acc: 0.9967 - val_loss: 0.5685 - val_acc: 0.8750\n",
            "Epoch 15/80\n",
            "20/20 [==============================] - ETA: 0s - loss: 0.0560 - acc: 0.9984\n",
            "Epoch 15: val_loss improved from 0.56853 to 0.54886, saving model to ./chestmodel-DenseNet201.hdf5\n",
            "20/20 [==============================] - 17s 853ms/step - loss: 0.0560 - acc: 0.9984 - val_loss: 0.5489 - val_acc: 0.8889\n",
            "Epoch 16/80\n",
            "20/20 [==============================] - ETA: 0s - loss: 0.0533 - acc: 0.9967\n",
            "Epoch 16: val_loss improved from 0.54886 to 0.52462, saving model to ./chestmodel-DenseNet201.hdf5\n",
            "20/20 [==============================] - 17s 835ms/step - loss: 0.0533 - acc: 0.9967 - val_loss: 0.5246 - val_acc: 0.8889\n",
            "Epoch 17/80\n",
            "20/20 [==============================] - ETA: 0s - loss: 0.0542 - acc: 1.0000\n",
            "Epoch 17: val_loss improved from 0.52462 to 0.50841, saving model to ./chestmodel-DenseNet201.hdf5\n",
            "20/20 [==============================] - 17s 837ms/step - loss: 0.0542 - acc: 1.0000 - val_loss: 0.5084 - val_acc: 0.8889\n",
            "Epoch 18/80\n",
            "20/20 [==============================] - ETA: 0s - loss: 0.0446 - acc: 0.9984\n",
            "Epoch 18: val_loss improved from 0.50841 to 0.49201, saving model to ./chestmodel-DenseNet201.hdf5\n",
            "20/20 [==============================] - 17s 853ms/step - loss: 0.0446 - acc: 0.9984 - val_loss: 0.4920 - val_acc: 0.8889\n",
            "Epoch 19/80\n",
            "20/20 [==============================] - ETA: 0s - loss: 0.0475 - acc: 0.9984\n",
            "Epoch 19: val_loss improved from 0.49201 to 0.47713, saving model to ./chestmodel-DenseNet201.hdf5\n",
            "20/20 [==============================] - 17s 836ms/step - loss: 0.0475 - acc: 0.9984 - val_loss: 0.4771 - val_acc: 0.8889\n",
            "Epoch 20/80\n",
            "20/20 [==============================] - ETA: 0s - loss: 0.0374 - acc: 0.9951\n",
            "Epoch 20: val_loss did not improve from 0.47713\n",
            "20/20 [==============================] - 16s 774ms/step - loss: 0.0374 - acc: 0.9951 - val_loss: 0.4839 - val_acc: 0.8750\n",
            "Epoch 21/80\n",
            "20/20 [==============================] - ETA: 0s - loss: 0.0387 - acc: 0.9984\n",
            "Epoch 21: val_loss did not improve from 0.47713\n",
            "20/20 [==============================] - 16s 809ms/step - loss: 0.0387 - acc: 0.9984 - val_loss: 0.4837 - val_acc: 0.8611\n",
            "Epoch 22/80\n",
            "20/20 [==============================] - ETA: 0s - loss: 0.0400 - acc: 0.9967\n",
            "Epoch 22: val_loss improved from 0.47713 to 0.46646, saving model to ./chestmodel-DenseNet201.hdf5\n",
            "20/20 [==============================] - 17s 845ms/step - loss: 0.0400 - acc: 0.9967 - val_loss: 0.4665 - val_acc: 0.8611\n",
            "Epoch 23/80\n",
            "20/20 [==============================] - ETA: 0s - loss: 0.0312 - acc: 0.9984\n",
            "Epoch 23: val_loss improved from 0.46646 to 0.45012, saving model to ./chestmodel-DenseNet201.hdf5\n",
            "20/20 [==============================] - 17s 845ms/step - loss: 0.0312 - acc: 0.9984 - val_loss: 0.4501 - val_acc: 0.8750\n",
            "Epoch 24/80\n",
            "20/20 [==============================] - ETA: 0s - loss: 0.0286 - acc: 0.9967\n",
            "Epoch 24: val_loss improved from 0.45012 to 0.43738, saving model to ./chestmodel-DenseNet201.hdf5\n",
            "20/20 [==============================] - 17s 846ms/step - loss: 0.0286 - acc: 0.9967 - val_loss: 0.4374 - val_acc: 0.8889\n",
            "Epoch 25/80\n",
            "20/20 [==============================] - ETA: 0s - loss: 0.0317 - acc: 0.9967\n",
            "Epoch 25: val_loss improved from 0.43738 to 0.43307, saving model to ./chestmodel-DenseNet201.hdf5\n",
            "20/20 [==============================] - 17s 879ms/step - loss: 0.0317 - acc: 0.9967 - val_loss: 0.4331 - val_acc: 0.8889\n",
            "Epoch 26/80\n",
            "20/20 [==============================] - ETA: 0s - loss: 0.0295 - acc: 0.9984\n",
            "Epoch 26: val_loss did not improve from 0.43307\n",
            "20/20 [==============================] - 16s 783ms/step - loss: 0.0295 - acc: 0.9984 - val_loss: 0.4420 - val_acc: 0.8750\n",
            "Epoch 27/80\n",
            "20/20 [==============================] - ETA: 0s - loss: 0.0285 - acc: 0.9967\n",
            "Epoch 27: val_loss did not improve from 0.43307\n",
            "20/20 [==============================] - 16s 772ms/step - loss: 0.0285 - acc: 0.9967 - val_loss: 0.4372 - val_acc: 0.8889\n",
            "Epoch 28/80\n",
            "20/20 [==============================] - ETA: 0s - loss: 0.0286 - acc: 0.9935\n",
            "Epoch 28: val_loss did not improve from 0.43307\n",
            "20/20 [==============================] - 16s 778ms/step - loss: 0.0286 - acc: 0.9935 - val_loss: 0.4531 - val_acc: 0.8611\n",
            "Epoch 29/80\n",
            "20/20 [==============================] - ETA: 0s - loss: 0.0221 - acc: 0.9984\n",
            "Epoch 29: val_loss did not improve from 0.43307\n",
            "20/20 [==============================] - 16s 809ms/step - loss: 0.0221 - acc: 0.9984 - val_loss: 0.4454 - val_acc: 0.8750\n",
            "Epoch 30/80\n",
            "20/20 [==============================] - ETA: 0s - loss: 0.0209 - acc: 0.9967\n",
            "Epoch 30: val_loss improved from 0.43307 to 0.42742, saving model to ./chestmodel-DenseNet201.hdf5\n",
            "20/20 [==============================] - 17s 847ms/step - loss: 0.0209 - acc: 0.9967 - val_loss: 0.4274 - val_acc: 0.8750\n",
            "Epoch 31/80\n",
            "20/20 [==============================] - ETA: 0s - loss: 0.0175 - acc: 0.9984\n",
            "Epoch 31: val_loss improved from 0.42742 to 0.41541, saving model to ./chestmodel-DenseNet201.hdf5\n",
            "20/20 [==============================] - 17s 847ms/step - loss: 0.0175 - acc: 0.9984 - val_loss: 0.4154 - val_acc: 0.8750\n",
            "Epoch 32/80\n",
            "20/20 [==============================] - ETA: 0s - loss: 0.0184 - acc: 0.9984\n",
            "Epoch 32: val_loss did not improve from 0.41541\n",
            "20/20 [==============================] - 16s 782ms/step - loss: 0.0184 - acc: 0.9984 - val_loss: 0.4159 - val_acc: 0.8750\n",
            "Epoch 33/80\n",
            "20/20 [==============================] - ETA: 0s - loss: 0.0179 - acc: 0.9984\n",
            "Epoch 33: val_loss improved from 0.41541 to 0.40610, saving model to ./chestmodel-DenseNet201.hdf5\n",
            "20/20 [==============================] - 17s 852ms/step - loss: 0.0179 - acc: 0.9984 - val_loss: 0.4061 - val_acc: 0.8750\n",
            "Epoch 34/80\n",
            "20/20 [==============================] - ETA: 0s - loss: 0.0191 - acc: 0.9967\n",
            "Epoch 34: val_loss did not improve from 0.40610\n",
            "20/20 [==============================] - 16s 789ms/step - loss: 0.0191 - acc: 0.9967 - val_loss: 0.4133 - val_acc: 0.8889\n",
            "Epoch 35/80\n",
            "20/20 [==============================] - ETA: 0s - loss: 0.0190 - acc: 0.9967\n",
            "Epoch 35: val_loss did not improve from 0.40610\n",
            "20/20 [==============================] - 16s 787ms/step - loss: 0.0190 - acc: 0.9967 - val_loss: 0.4162 - val_acc: 0.9028\n",
            "Epoch 36/80\n",
            "20/20 [==============================] - ETA: 0s - loss: 0.0152 - acc: 0.9984\n",
            "Epoch 36: val_loss did not improve from 0.40610\n",
            "20/20 [==============================] - 16s 790ms/step - loss: 0.0152 - acc: 0.9984 - val_loss: 0.4101 - val_acc: 0.9028\n",
            "Epoch 37/80\n",
            "20/20 [==============================] - ETA: 0s - loss: 0.0162 - acc: 0.9951\n",
            "Epoch 37: val_loss did not improve from 0.40610\n",
            "20/20 [==============================] - 16s 789ms/step - loss: 0.0162 - acc: 0.9951 - val_loss: 0.4148 - val_acc: 0.9028\n",
            "Epoch 38/80\n",
            "20/20 [==============================] - ETA: 0s - loss: 0.0157 - acc: 0.9984\n",
            "Epoch 38: val_loss did not improve from 0.40610\n",
            "20/20 [==============================] - 16s 805ms/step - loss: 0.0157 - acc: 0.9984 - val_loss: 0.4152 - val_acc: 0.9028\n",
            "Epoch 39/80\n",
            "20/20 [==============================] - ETA: 0s - loss: 0.0126 - acc: 0.9984\n",
            "Epoch 39: val_loss did not improve from 0.40610\n",
            "20/20 [==============================] - 16s 791ms/step - loss: 0.0126 - acc: 0.9984 - val_loss: 0.4153 - val_acc: 0.9028\n",
            "Epoch 40/80\n",
            "20/20 [==============================] - ETA: 0s - loss: 0.0144 - acc: 0.9984\n",
            "Epoch 40: val_loss did not improve from 0.40610\n",
            "20/20 [==============================] - 16s 791ms/step - loss: 0.0144 - acc: 0.9984 - val_loss: 0.4183 - val_acc: 0.8889\n",
            "Epoch 41/80\n",
            "20/20 [==============================] - ETA: 0s - loss: 0.0125 - acc: 0.9967\n",
            "Epoch 41: val_loss did not improve from 0.40610\n",
            "20/20 [==============================] - 16s 793ms/step - loss: 0.0125 - acc: 0.9967 - val_loss: 0.4115 - val_acc: 0.8889\n",
            "Epoch 42/80\n",
            "20/20 [==============================] - ETA: 0s - loss: 0.0142 - acc: 0.9967\n",
            "Epoch 42: val_loss improved from 0.40610 to 0.40582, saving model to ./chestmodel-DenseNet201.hdf5\n",
            "20/20 [==============================] - 18s 874ms/step - loss: 0.0142 - acc: 0.9967 - val_loss: 0.4058 - val_acc: 0.8889\n",
            "Epoch 43/80\n",
            "20/20 [==============================] - ETA: 0s - loss: 0.0131 - acc: 0.9984\n",
            "Epoch 43: val_loss improved from 0.40582 to 0.39595, saving model to ./chestmodel-DenseNet201.hdf5\n",
            "20/20 [==============================] - 17s 851ms/step - loss: 0.0131 - acc: 0.9984 - val_loss: 0.3959 - val_acc: 0.9028\n",
            "Epoch 44/80\n",
            "20/20 [==============================] - ETA: 0s - loss: 0.0135 - acc: 0.9967\n",
            "Epoch 44: val_loss did not improve from 0.39595\n",
            "20/20 [==============================] - 16s 786ms/step - loss: 0.0135 - acc: 0.9967 - val_loss: 0.4023 - val_acc: 0.9028\n",
            "Epoch 45/80\n",
            "20/20 [==============================] - ETA: 0s - loss: 0.0124 - acc: 0.9984\n",
            "Epoch 45: val_loss improved from 0.39595 to 0.39510, saving model to ./chestmodel-DenseNet201.hdf5\n",
            "20/20 [==============================] - 17s 893ms/step - loss: 0.0124 - acc: 0.9984 - val_loss: 0.3951 - val_acc: 0.8889\n",
            "Epoch 46/80\n",
            "20/20 [==============================] - ETA: 0s - loss: 0.0124 - acc: 0.9967\n",
            "Epoch 46: val_loss did not improve from 0.39510\n",
            "20/20 [==============================] - 16s 822ms/step - loss: 0.0124 - acc: 0.9967 - val_loss: 0.3999 - val_acc: 0.8889\n",
            "Epoch 47/80\n",
            "20/20 [==============================] - ETA: 0s - loss: 0.0113 - acc: 0.9984\n",
            "Epoch 47: val_loss improved from 0.39510 to 0.38960, saving model to ./chestmodel-DenseNet201.hdf5\n",
            "20/20 [==============================] - 17s 856ms/step - loss: 0.0113 - acc: 0.9984 - val_loss: 0.3896 - val_acc: 0.9028\n",
            "Epoch 48/80\n",
            "20/20 [==============================] - ETA: 0s - loss: 0.0115 - acc: 0.9967\n",
            "Epoch 48: val_loss improved from 0.38960 to 0.38217, saving model to ./chestmodel-DenseNet201.hdf5\n",
            "20/20 [==============================] - 17s 854ms/step - loss: 0.0115 - acc: 0.9967 - val_loss: 0.3822 - val_acc: 0.9167\n",
            "Epoch 49/80\n",
            "20/20 [==============================] - ETA: 0s - loss: 0.0085 - acc: 1.0000\n",
            "Epoch 49: val_loss did not improve from 0.38217\n",
            "20/20 [==============================] - 16s 792ms/step - loss: 0.0085 - acc: 1.0000 - val_loss: 0.3851 - val_acc: 0.9167\n",
            "Epoch 50/80\n",
            "20/20 [==============================] - ETA: 0s - loss: 0.0113 - acc: 0.9967\n",
            "Epoch 50: val_loss did not improve from 0.38217\n",
            "20/20 [==============================] - 16s 795ms/step - loss: 0.0113 - acc: 0.9967 - val_loss: 0.3854 - val_acc: 0.9167\n",
            "Epoch 51/80\n",
            "20/20 [==============================] - ETA: 0s - loss: 0.0100 - acc: 0.9984\n",
            "Epoch 51: val_loss improved from 0.38217 to 0.37430, saving model to ./chestmodel-DenseNet201.hdf5\n",
            "20/20 [==============================] - 17s 857ms/step - loss: 0.0100 - acc: 0.9984 - val_loss: 0.3743 - val_acc: 0.9167\n",
            "Epoch 52/80\n",
            "20/20 [==============================] - ETA: 0s - loss: 0.0109 - acc: 0.9984\n",
            "Epoch 52: val_loss improved from 0.37430 to 0.37177, saving model to ./chestmodel-DenseNet201.hdf5\n",
            "20/20 [==============================] - 17s 857ms/step - loss: 0.0109 - acc: 0.9984 - val_loss: 0.3718 - val_acc: 0.9167\n",
            "Epoch 53/80\n",
            "20/20 [==============================] - ETA: 0s - loss: 0.0087 - acc: 0.9984\n",
            "Epoch 53: val_loss did not improve from 0.37177\n",
            "20/20 [==============================] - 16s 831ms/step - loss: 0.0087 - acc: 0.9984 - val_loss: 0.3827 - val_acc: 0.9028\n",
            "Epoch 54/80\n",
            "20/20 [==============================] - ETA: 0s - loss: 0.0095 - acc: 0.9984\n",
            "Epoch 54: val_loss did not improve from 0.37177\n",
            "20/20 [==============================] - 16s 792ms/step - loss: 0.0095 - acc: 0.9984 - val_loss: 0.3783 - val_acc: 0.9167\n",
            "Epoch 55/80\n",
            "20/20 [==============================] - ETA: 0s - loss: 0.0107 - acc: 0.9984\n",
            "Epoch 55: val_loss did not improve from 0.37177\n",
            "20/20 [==============================] - 16s 791ms/step - loss: 0.0107 - acc: 0.9984 - val_loss: 0.3819 - val_acc: 0.9028\n",
            "Epoch 56/80\n",
            "20/20 [==============================] - ETA: 0s - loss: 0.0095 - acc: 1.0000\n",
            "Epoch 56: val_loss did not improve from 0.37177\n",
            "20/20 [==============================] - 16s 793ms/step - loss: 0.0095 - acc: 1.0000 - val_loss: 0.3903 - val_acc: 0.8889\n",
            "Epoch 57/80\n",
            "20/20 [==============================] - ETA: 0s - loss: 0.0100 - acc: 0.9967\n",
            "Epoch 57: val_loss did not improve from 0.37177\n",
            "20/20 [==============================] - 16s 795ms/step - loss: 0.0100 - acc: 0.9967 - val_loss: 0.3892 - val_acc: 0.9028\n",
            "Epoch 58/80\n",
            "20/20 [==============================] - ETA: 0s - loss: 0.0098 - acc: 1.0000\n",
            "Epoch 58: val_loss did not improve from 0.37177\n",
            "20/20 [==============================] - 16s 792ms/step - loss: 0.0098 - acc: 1.0000 - val_loss: 0.4076 - val_acc: 0.8750\n",
            "Epoch 59/80\n",
            "20/20 [==============================] - ETA: 0s - loss: 0.0101 - acc: 0.9967\n",
            "Epoch 59: val_loss did not improve from 0.37177\n",
            "20/20 [==============================] - 16s 796ms/step - loss: 0.0101 - acc: 0.9967 - val_loss: 0.3993 - val_acc: 0.8889\n",
            "Epoch 60/80\n",
            "20/20 [==============================] - ETA: 0s - loss: 0.0077 - acc: 0.9984\n",
            "Epoch 60: val_loss did not improve from 0.37177\n",
            "20/20 [==============================] - 16s 791ms/step - loss: 0.0077 - acc: 0.9984 - val_loss: 0.4032 - val_acc: 0.8750\n",
            "Epoch 61/80\n",
            "20/20 [==============================] - ETA: 0s - loss: 0.0082 - acc: 0.9967\n",
            "Epoch 61: val_loss did not improve from 0.37177\n",
            "20/20 [==============================] - 16s 790ms/step - loss: 0.0082 - acc: 0.9967 - val_loss: 0.4035 - val_acc: 0.8611\n",
            "Epoch 62/80\n",
            "20/20 [==============================] - ETA: 0s - loss: 0.0072 - acc: 0.9967\n",
            "Epoch 62: val_loss did not improve from 0.37177\n",
            "20/20 [==============================] - 16s 789ms/step - loss: 0.0072 - acc: 0.9967 - val_loss: 0.4075 - val_acc: 0.8611\n",
            "Epoch 63/80\n",
            "20/20 [==============================] - ETA: 0s - loss: 0.0069 - acc: 0.9984\n",
            "Epoch 63: val_loss did not improve from 0.37177\n",
            "20/20 [==============================] - 16s 793ms/step - loss: 0.0069 - acc: 0.9984 - val_loss: 0.3958 - val_acc: 0.8889\n",
            "Epoch 64/80\n",
            "20/20 [==============================] - ETA: 0s - loss: 0.0082 - acc: 0.9984\n",
            "Epoch 64: val_loss did not improve from 0.37177\n",
            "20/20 [==============================] - 16s 788ms/step - loss: 0.0082 - acc: 0.9984 - val_loss: 0.3859 - val_acc: 0.8889\n",
            "Epoch 65/80\n",
            "20/20 [==============================] - ETA: 0s - loss: 0.0057 - acc: 1.0000\n",
            "Epoch 65: val_loss did not improve from 0.37177\n",
            "20/20 [==============================] - 16s 789ms/step - loss: 0.0057 - acc: 1.0000 - val_loss: 0.3871 - val_acc: 0.8889\n",
            "Epoch 66/80\n",
            "20/20 [==============================] - ETA: 0s - loss: 0.0075 - acc: 0.9984\n",
            "Epoch 66: val_loss did not improve from 0.37177\n",
            "20/20 [==============================] - 16s 795ms/step - loss: 0.0075 - acc: 0.9984 - val_loss: 0.3834 - val_acc: 0.9028\n",
            "Epoch 67/80\n",
            "20/20 [==============================] - ETA: 0s - loss: 0.0090 - acc: 0.9984\n",
            "Epoch 67: val_loss did not improve from 0.37177\n",
            "20/20 [==============================] - 16s 791ms/step - loss: 0.0090 - acc: 0.9984 - val_loss: 0.3726 - val_acc: 0.9028\n",
            "Epoch 67: early stopping\n"
          ]
        }
      ]
    },
    {
      "cell_type": "code",
      "source": [
        "plt.plot(history_dense.history['acc'], label = 'train')\n",
        "plt.plot(history_dense.history['val_acc'], label = 'valid')\n",
        "\n",
        "plt.legend(loc = 'upper left')\n",
        "plt.xlabel('epochs')\n",
        "plt.ylabel('accuracy')\n",
        "plt.show()"
      ],
      "metadata": {
        "id": "nJj3aqeKQoml",
        "colab": {
          "base_uri": "https://localhost:8080/",
          "height": 279
        },
        "outputId": "83b4138f-311d-45d4-b98c-812d9686e401"
      },
      "execution_count": 21,
      "outputs": [
        {
          "output_type": "display_data",
          "data": {
            "text/plain": [
              "<Figure size 432x288 with 1 Axes>"
            ],
            "image/png": "[encoded data removed]"
          },
          "metadata": {
            "needs_background": "light"
          }
        }
      ]
    },
    {
      "cell_type": "code",
      "source": [
        "dns_result = densenet_model.evaluate(test_generator)"
      ],
      "metadata": {
        "colab": {
          "base_uri": "https://localhost:8080/"
        },
        "id": "CRIRzr78Tod_",
        "outputId": "2536e0ce-038d-492b-e28e-cd52c4e0bbed"
      },
      "execution_count": 22,
      "outputs": [
        {
          "output_type": "stream",
          "name": "stdout",
          "text": [
            "10/10 [==============================] - 13s 1s/step - loss: 0.3748 - acc: 0.8921\n"
          ]
        }
      ]
    },
    {
      "cell_type": "code",
      "source": [
        "image_shape = (460,460,3)\n",
        "N_CLASSES = 4\n",
        "BATCH_SIZE = 32\n",
        "\n",
        "train_datagen = ImageDataGenerator(dtype = 'float32')\n",
        "train_generator = train_datagen.flow_from_directory(train_path,\n",
        "                                                    batch_size = BATCH_SIZE,\n",
        "                                                    target_size = (460,460),\n",
        "                                                    class_mode = 'categorical')\n",
        "valid_datagen = ImageDataGenerator(dtype = 'float32')\n",
        "valid_generator = valid_datagen.flow_from_directory(valid_path,\n",
        "                                                    batch_size = BATCH_SIZE,\n",
        "                                                    target_size = (460, 460),\n",
        "                                                    class_mode = 'categorical')\n",
        "\n",
        "test_datagen = ImageDataGenerator(dtype = 'float32')\n",
        "test_generator = test_datagen.flow_from_directory(test_path,\n",
        "                                                  batch_size = BATCH_SIZE,\n",
        "                                                  target_size =(460,460),\n",
        "                                                  class_mode = 'categorical')"
      ],
      "metadata": {
        "colab": {
          "base_uri": "https://localhost:8080/"
        },
        "id": "60VBecHWT1Td",
        "outputId": "e7196dbb-38e0-4b33-af84-097ea87d47c6"
      },
      "execution_count": 25,
      "outputs": [
        {
          "output_type": "stream",
          "name": "stdout",
          "text": [
            "Found 613 images belonging to 4 classes.\n",
            "Found 72 images belonging to 4 classes.\n",
            "Found 315 images belonging to 4 classes.\n"
          ]
        }
      ]
    },
    {
      "cell_type": "code",
      "source": [
        "res_model = ResNet50(include_top = False, pooling = 'avg', weights = 'imagenet', input_shape= (image_shape))\n",
        "\n",
        "for layer in res_model.layers:\n",
        "  if 'conv5' not in layer.name:\n",
        "    layer.trainable = False"
      ],
      "metadata": {
        "id": "tG6Iv2LBQokB",
        "colab": {
          "base_uri": "https://localhost:8080/"
        },
        "outputId": "abf1f377-bec2-41af-ce46-35c062f9685c"
      },
      "execution_count": 26,
      "outputs": [
        {
          "output_type": "stream",
          "name": "stdout",
          "text": [
            "Downloading data from https://storage.googleapis.com/tensorflow/keras-applications/resnet/resnet50_weights_tf_dim_ordering_tf_kernels_notop.h5\n",
            "94765736/94765736 [==============================] - 5s 0us/step\n"
          ]
        }
      ]
    },
    {
      "cell_type": "code",
      "source": [
        "resnet_model = Sequential()\n",
        "resnet_model.add(res_model)\n",
        "resnet_model.add(Dropout(0.4))\n",
        "resnet_model.add(Flatten())\n",
        "resnet_model.add(BatchNormalization())\n",
        "resnet_model.add(Dropout(0.4))\n",
        "resnet_model.add(Dense(N_CLASSES, activation='softmax'))\n",
        "resnet_model.summary()"
      ],
      "metadata": {
        "id": "mtnN2TOsQohv",
        "colab": {
          "base_uri": "https://localhost:8080/"
        },
        "outputId": "72630827-e1e7-42c0-d22e-12b184d5f597"
      },
      "execution_count": 27,
      "outputs": [
        {
          "output_type": "stream",
          "name": "stdout",
          "text": [
            "Model: \"sequential_2\"\n",
            "_________________________________________________________________\n",
            " Layer (type)                Output Shape              Param #   \n",
            "=================================================================\n",
            " resnet50 (Functional)       (None, 2048)              23587712  \n",
            "                                                                 \n",
            " dropout_2 (Dropout)         (None, 2048)              0         \n",
            "                                                                 \n",
            " flatten_2 (Flatten)         (None, 2048)              0         \n",
            "                                                                 \n",
            " batch_normalization_1 (Batc  (None, 2048)             8192      \n",
            " hNormalization)                                                 \n",
            "                                                                 \n",
            " dropout_3 (Dropout)         (None, 2048)              0         \n",
            "                                                                 \n",
            " dense_3 (Dense)             (None, 4)                 8196      \n",
            "                                                                 \n",
            "=================================================================\n",
            "Total params: 23,604,100\n",
            "Trainable params: 14,988,292\n",
            "Non-trainable params: 8,615,808\n",
            "_________________________________________________________________\n"
          ]
        }
      ]
    },
    {
      "cell_type": "code",
      "source": [
        "optimizer = optimizers.Adam(learning_rate= 0.00001, decay= 1e-5)\n",
        "resnet_model.compile(optimizer=optimizer, loss = 'categorical_crossentropy', metrics = ['acc'])"
      ],
      "metadata": {
        "id": "gb73fCzBQofJ"
      },
      "execution_count": 28,
      "outputs": []
    },
    {
      "cell_type": "code",
      "source": [
        "checkpointer = ModelCheckpoint(filepath='./finalmodel-ResNet50.hdf5',\n",
        "                            monitor='val_loss', verbose = 1,\n",
        "                            save_best_only=True)\n",
        "early_stopping = EarlyStopping(verbose=1, patience=20)"
      ],
      "metadata": {
        "id": "dObGBtiJQoc1"
      },
      "execution_count": 29,
      "outputs": []
    },
    {
      "cell_type": "code",
      "source": [
        "history_res = resnet_model.fit(train_generator,\n",
        "                            steps_per_epoch = 20,\n",
        "                            epochs = 120,\n",
        "                            verbose = 1,\n",
        "                            validation_data = valid_generator,\n",
        "                            callbacks = [checkpointer, early_stopping])"
      ],
      "metadata": {
        "id": "5kt1iuceQoaG",
        "colab": {
          "base_uri": "https://localhost:8080/"
        },
        "outputId": "d77e7af6-ea49-4037-9f19-6d2875b9c6b4"
      },
      "execution_count": 30,
      "outputs": [
        {
          "output_type": "stream",
          "name": "stdout",
          "text": [
            "Epoch 1/120\n",
            "20/20 [==============================] - ETA: 0s - loss: 1.9662 - acc: 0.3328\n",
            "Epoch 1: val_loss improved from inf to 1.44189, saving model to ./finalmodel-ResNet50.hdf5\n",
            "20/20 [==============================] - 23s 860ms/step - loss: 1.9662 - acc: 0.3328 - val_loss: 1.4419 - val_acc: 0.4444\n",
            "Epoch 2/120\n",
            "20/20 [==============================] - ETA: 0s - loss: 1.4999 - acc: 0.4796\n",
            "Epoch 2: val_loss improved from 1.44189 to 1.23316, saving model to ./finalmodel-ResNet50.hdf5\n",
            "20/20 [==============================] - 14s 675ms/step - loss: 1.4999 - acc: 0.4796 - val_loss: 1.2332 - val_acc: 0.4861\n",
            "Epoch 3/120\n",
            "20/20 [==============================] - ETA: 0s - loss: 1.1351 - acc: 0.5775\n",
            "Epoch 3: val_loss improved from 1.23316 to 1.09851, saving model to ./finalmodel-ResNet50.hdf5\n",
            "20/20 [==============================] - 13s 655ms/step - loss: 1.1351 - acc: 0.5775 - val_loss: 1.0985 - val_acc: 0.5139\n",
            "Epoch 4/120\n",
            "20/20 [==============================] - ETA: 0s - loss: 0.9526 - acc: 0.6281\n",
            "Epoch 4: val_loss improved from 1.09851 to 1.00249, saving model to ./finalmodel-ResNet50.hdf5\n",
            "20/20 [==============================] - 13s 642ms/step - loss: 0.9526 - acc: 0.6281 - val_loss: 1.0025 - val_acc: 0.5139\n",
            "Epoch 5/120\n",
            "20/20 [==============================] - ETA: 0s - loss: 0.8876 - acc: 0.6542\n",
            "Epoch 5: val_loss improved from 1.00249 to 0.92204, saving model to ./finalmodel-ResNet50.hdf5\n",
            "20/20 [==============================] - 13s 661ms/step - loss: 0.8876 - acc: 0.6542 - val_loss: 0.9220 - val_acc: 0.5556\n",
            "Epoch 6/120\n",
            "20/20 [==============================] - ETA: 0s - loss: 0.6817 - acc: 0.7439\n",
            "Epoch 6: val_loss improved from 0.92204 to 0.84261, saving model to ./finalmodel-ResNet50.hdf5\n",
            "20/20 [==============================] - 14s 686ms/step - loss: 0.6817 - acc: 0.7439 - val_loss: 0.8426 - val_acc: 0.6667\n",
            "Epoch 7/120\n",
            "20/20 [==============================] - ETA: 0s - loss: 0.5646 - acc: 0.7716\n",
            "Epoch 7: val_loss improved from 0.84261 to 0.79313, saving model to ./finalmodel-ResNet50.hdf5\n",
            "20/20 [==============================] - 13s 660ms/step - loss: 0.5646 - acc: 0.7716 - val_loss: 0.7931 - val_acc: 0.7083\n",
            "Epoch 8/120\n",
            "20/20 [==============================] - ETA: 0s - loss: 0.5207 - acc: 0.8075\n",
            "Epoch 8: val_loss improved from 0.79313 to 0.73542, saving model to ./finalmodel-ResNet50.hdf5\n",
            "20/20 [==============================] - 13s 658ms/step - loss: 0.5207 - acc: 0.8075 - val_loss: 0.7354 - val_acc: 0.7222\n",
            "Epoch 9/120\n",
            "20/20 [==============================] - ETA: 0s - loss: 0.4834 - acc: 0.8222\n",
            "Epoch 9: val_loss improved from 0.73542 to 0.68651, saving model to ./finalmodel-ResNet50.hdf5\n",
            "20/20 [==============================] - 13s 684ms/step - loss: 0.4834 - acc: 0.8222 - val_loss: 0.6865 - val_acc: 0.7639\n",
            "Epoch 10/120\n",
            "20/20 [==============================] - ETA: 0s - loss: 0.4233 - acc: 0.8238\n",
            "Epoch 10: val_loss improved from 0.68651 to 0.64876, saving model to ./finalmodel-ResNet50.hdf5\n",
            "20/20 [==============================] - 13s 662ms/step - loss: 0.4233 - acc: 0.8238 - val_loss: 0.6488 - val_acc: 0.7917\n",
            "Epoch 11/120\n",
            "20/20 [==============================] - ETA: 0s - loss: 0.3597 - acc: 0.8646\n",
            "Epoch 11: val_loss improved from 0.64876 to 0.61065, saving model to ./finalmodel-ResNet50.hdf5\n",
            "20/20 [==============================] - 13s 687ms/step - loss: 0.3597 - acc: 0.8646 - val_loss: 0.6106 - val_acc: 0.8333\n",
            "Epoch 12/120\n",
            "20/20 [==============================] - ETA: 0s - loss: 0.3194 - acc: 0.8842\n",
            "Epoch 12: val_loss improved from 0.61065 to 0.57686, saving model to ./finalmodel-ResNet50.hdf5\n",
            "20/20 [==============================] - 13s 662ms/step - loss: 0.3194 - acc: 0.8842 - val_loss: 0.5769 - val_acc: 0.8333\n",
            "Epoch 13/120\n",
            "20/20 [==============================] - ETA: 0s - loss: 0.2699 - acc: 0.9054\n",
            "Epoch 13: val_loss improved from 0.57686 to 0.54275, saving model to ./finalmodel-ResNet50.hdf5\n",
            "20/20 [==============================] - 13s 661ms/step - loss: 0.2699 - acc: 0.9054 - val_loss: 0.5427 - val_acc: 0.8611\n",
            "Epoch 14/120\n",
            "20/20 [==============================] - ETA: 0s - loss: 0.2583 - acc: 0.9021\n",
            "Epoch 14: val_loss improved from 0.54275 to 0.51951, saving model to ./finalmodel-ResNet50.hdf5\n",
            "20/20 [==============================] - 13s 663ms/step - loss: 0.2583 - acc: 0.9021 - val_loss: 0.5195 - val_acc: 0.8750\n",
            "Epoch 15/120\n",
            "20/20 [==============================] - ETA: 0s - loss: 0.2224 - acc: 0.9250\n",
            "Epoch 15: val_loss improved from 0.51951 to 0.51178, saving model to ./finalmodel-ResNet50.hdf5\n",
            "20/20 [==============================] - 13s 664ms/step - loss: 0.2224 - acc: 0.9250 - val_loss: 0.5118 - val_acc: 0.8750\n",
            "Epoch 16/120\n",
            "20/20 [==============================] - ETA: 0s - loss: 0.2183 - acc: 0.9250\n",
            "Epoch 16: val_loss improved from 0.51178 to 0.50208, saving model to ./finalmodel-ResNet50.hdf5\n",
            "20/20 [==============================] - 13s 664ms/step - loss: 0.2183 - acc: 0.9250 - val_loss: 0.5021 - val_acc: 0.8611\n",
            "Epoch 17/120\n",
            "20/20 [==============================] - ETA: 0s - loss: 0.1956 - acc: 0.9396\n",
            "Epoch 17: val_loss improved from 0.50208 to 0.48462, saving model to ./finalmodel-ResNet50.hdf5\n",
            "20/20 [==============================] - 13s 665ms/step - loss: 0.1956 - acc: 0.9396 - val_loss: 0.4846 - val_acc: 0.8611\n",
            "Epoch 18/120\n",
            "20/20 [==============================] - ETA: 0s - loss: 0.1578 - acc: 0.9511\n",
            "Epoch 18: val_loss did not improve from 0.48462\n",
            "20/20 [==============================] - 13s 627ms/step - loss: 0.1578 - acc: 0.9511 - val_loss: 0.4863 - val_acc: 0.8472\n",
            "Epoch 19/120\n",
            "20/20 [==============================] - ETA: 0s - loss: 0.1535 - acc: 0.9576\n",
            "Epoch 19: val_loss did not improve from 0.48462\n",
            "20/20 [==============================] - 13s 623ms/step - loss: 0.1535 - acc: 0.9576 - val_loss: 0.4898 - val_acc: 0.8611\n",
            "Epoch 20/120\n",
            "20/20 [==============================] - ETA: 0s - loss: 0.1277 - acc: 0.9625\n",
            "Epoch 20: val_loss improved from 0.48462 to 0.47214, saving model to ./finalmodel-ResNet50.hdf5\n",
            "20/20 [==============================] - 13s 661ms/step - loss: 0.1277 - acc: 0.9625 - val_loss: 0.4721 - val_acc: 0.8611\n",
            "Epoch 21/120\n",
            "20/20 [==============================] - ETA: 0s - loss: 0.1250 - acc: 0.9625\n",
            "Epoch 21: val_loss improved from 0.47214 to 0.46363, saving model to ./finalmodel-ResNet50.hdf5\n",
            "20/20 [==============================] - 14s 677ms/step - loss: 0.1250 - acc: 0.9625 - val_loss: 0.4636 - val_acc: 0.8750\n",
            "Epoch 22/120\n",
            "20/20 [==============================] - ETA: 0s - loss: 0.1018 - acc: 0.9706\n",
            "Epoch 22: val_loss improved from 0.46363 to 0.46309, saving model to ./finalmodel-ResNet50.hdf5\n",
            "20/20 [==============================] - 13s 666ms/step - loss: 0.1018 - acc: 0.9706 - val_loss: 0.4631 - val_acc: 0.8750\n",
            "Epoch 23/120\n",
            "20/20 [==============================] - ETA: 0s - loss: 0.1318 - acc: 0.9608\n",
            "Epoch 23: val_loss improved from 0.46309 to 0.44668, saving model to ./finalmodel-ResNet50.hdf5\n",
            "20/20 [==============================] - 13s 686ms/step - loss: 0.1318 - acc: 0.9608 - val_loss: 0.4467 - val_acc: 0.8611\n",
            "Epoch 24/120\n",
            "20/20 [==============================] - ETA: 0s - loss: 0.1027 - acc: 0.9641\n",
            "Epoch 24: val_loss improved from 0.44668 to 0.44660, saving model to ./finalmodel-ResNet50.hdf5\n",
            "20/20 [==============================] - 13s 661ms/step - loss: 0.1027 - acc: 0.9641 - val_loss: 0.4466 - val_acc: 0.8611\n",
            "Epoch 25/120\n",
            "20/20 [==============================] - ETA: 0s - loss: 0.0661 - acc: 0.9853\n",
            "Epoch 25: val_loss did not improve from 0.44660\n",
            "20/20 [==============================] - 13s 627ms/step - loss: 0.0661 - acc: 0.9853 - val_loss: 0.4485 - val_acc: 0.8889\n",
            "Epoch 26/120\n",
            "20/20 [==============================] - ETA: 0s - loss: 0.0608 - acc: 0.9886\n",
            "Epoch 26: val_loss did not improve from 0.44660\n",
            "20/20 [==============================] - 13s 625ms/step - loss: 0.0608 - acc: 0.9886 - val_loss: 0.4522 - val_acc: 0.8889\n",
            "Epoch 27/120\n",
            "20/20 [==============================] - ETA: 0s - loss: 0.0583 - acc: 0.9853\n",
            "Epoch 27: val_loss did not improve from 0.44660\n",
            "20/20 [==============================] - 13s 623ms/step - loss: 0.0583 - acc: 0.9853 - val_loss: 0.4577 - val_acc: 0.8611\n",
            "Epoch 28/120\n",
            "20/20 [==============================] - ETA: 0s - loss: 0.0676 - acc: 0.9869\n",
            "Epoch 28: val_loss did not improve from 0.44660\n",
            "20/20 [==============================] - 13s 620ms/step - loss: 0.0676 - acc: 0.9869 - val_loss: 0.4644 - val_acc: 0.8333\n",
            "Epoch 29/120\n",
            "20/20 [==============================] - ETA: 0s - loss: 0.0735 - acc: 0.9837\n",
            "Epoch 29: val_loss did not improve from 0.44660\n",
            "20/20 [==============================] - 12s 612ms/step - loss: 0.0735 - acc: 0.9837 - val_loss: 0.4610 - val_acc: 0.8750\n",
            "Epoch 30/120\n",
            "20/20 [==============================] - ETA: 0s - loss: 0.0487 - acc: 0.9869\n",
            "Epoch 30: val_loss improved from 0.44660 to 0.44468, saving model to ./finalmodel-ResNet50.hdf5\n",
            "20/20 [==============================] - 13s 667ms/step - loss: 0.0487 - acc: 0.9869 - val_loss: 0.4447 - val_acc: 0.8889\n",
            "Epoch 31/120\n",
            "20/20 [==============================] - ETA: 0s - loss: 0.0537 - acc: 0.9902\n",
            "Epoch 31: val_loss improved from 0.44468 to 0.44251, saving model to ./finalmodel-ResNet50.hdf5\n",
            "20/20 [==============================] - 14s 676ms/step - loss: 0.0537 - acc: 0.9902 - val_loss: 0.4425 - val_acc: 0.9028\n",
            "Epoch 32/120\n",
            "20/20 [==============================] - ETA: 0s - loss: 0.0401 - acc: 0.9935\n",
            "Epoch 32: val_loss improved from 0.44251 to 0.43548, saving model to ./finalmodel-ResNet50.hdf5\n",
            "20/20 [==============================] - 13s 663ms/step - loss: 0.0401 - acc: 0.9935 - val_loss: 0.4355 - val_acc: 0.9028\n",
            "Epoch 33/120\n",
            "20/20 [==============================] - ETA: 0s - loss: 0.0527 - acc: 0.9869\n",
            "Epoch 33: val_loss improved from 0.43548 to 0.42661, saving model to ./finalmodel-ResNet50.hdf5\n",
            "20/20 [==============================] - 13s 660ms/step - loss: 0.0527 - acc: 0.9869 - val_loss: 0.4266 - val_acc: 0.9167\n",
            "Epoch 34/120\n",
            "20/20 [==============================] - ETA: 0s - loss: 0.0418 - acc: 0.9886\n",
            "Epoch 34: val_loss improved from 0.42661 to 0.41737, saving model to ./finalmodel-ResNet50.hdf5\n",
            "20/20 [==============================] - 13s 657ms/step - loss: 0.0418 - acc: 0.9886 - val_loss: 0.4174 - val_acc: 0.9167\n",
            "Epoch 35/120\n",
            "20/20 [==============================] - ETA: 0s - loss: 0.0517 - acc: 0.9869\n",
            "Epoch 35: val_loss did not improve from 0.41737\n",
            "20/20 [==============================] - 13s 623ms/step - loss: 0.0517 - acc: 0.9869 - val_loss: 0.4389 - val_acc: 0.9167\n",
            "Epoch 36/120\n",
            "20/20 [==============================] - ETA: 0s - loss: 0.0280 - acc: 0.9951\n",
            "Epoch 36: val_loss did not improve from 0.41737\n",
            "20/20 [==============================] - 13s 627ms/step - loss: 0.0280 - acc: 0.9951 - val_loss: 0.4391 - val_acc: 0.9028\n",
            "Epoch 37/120\n",
            "20/20 [==============================] - ETA: 0s - loss: 0.0413 - acc: 0.9869\n",
            "Epoch 37: val_loss did not improve from 0.41737\n",
            "20/20 [==============================] - 13s 630ms/step - loss: 0.0413 - acc: 0.9869 - val_loss: 0.4321 - val_acc: 0.9028\n",
            "Epoch 38/120\n",
            "20/20 [==============================] - ETA: 0s - loss: 0.0329 - acc: 0.9902\n",
            "Epoch 38: val_loss did not improve from 0.41737\n",
            "20/20 [==============================] - 13s 634ms/step - loss: 0.0329 - acc: 0.9902 - val_loss: 0.4328 - val_acc: 0.9028\n",
            "Epoch 39/120\n",
            "20/20 [==============================] - ETA: 0s - loss: 0.0491 - acc: 0.9821\n",
            "Epoch 39: val_loss improved from 0.41737 to 0.41328, saving model to ./finalmodel-ResNet50.hdf5\n",
            "20/20 [==============================] - 13s 661ms/step - loss: 0.0491 - acc: 0.9821 - val_loss: 0.4133 - val_acc: 0.9167\n",
            "Epoch 40/120\n",
            "20/20 [==============================] - ETA: 0s - loss: 0.0374 - acc: 0.9935\n",
            "Epoch 40: val_loss improved from 0.41328 to 0.40576, saving model to ./finalmodel-ResNet50.hdf5\n",
            "20/20 [==============================] - 13s 669ms/step - loss: 0.0374 - acc: 0.9935 - val_loss: 0.4058 - val_acc: 0.9167\n",
            "Epoch 41/120\n",
            "20/20 [==============================] - ETA: 0s - loss: 0.0277 - acc: 0.9951\n",
            "Epoch 41: val_loss improved from 0.40576 to 0.40452, saving model to ./finalmodel-ResNet50.hdf5\n",
            "20/20 [==============================] - 13s 665ms/step - loss: 0.0277 - acc: 0.9951 - val_loss: 0.4045 - val_acc: 0.9306\n",
            "Epoch 42/120\n",
            "20/20 [==============================] - ETA: 0s - loss: 0.0366 - acc: 0.9869\n",
            "Epoch 42: val_loss improved from 0.40452 to 0.39912, saving model to ./finalmodel-ResNet50.hdf5\n",
            "20/20 [==============================] - 13s 660ms/step - loss: 0.0366 - acc: 0.9869 - val_loss: 0.3991 - val_acc: 0.9306\n",
            "Epoch 43/120\n",
            "20/20 [==============================] - ETA: 0s - loss: 0.0286 - acc: 0.9951\n",
            "Epoch 43: val_loss did not improve from 0.39912\n",
            "20/20 [==============================] - 13s 623ms/step - loss: 0.0286 - acc: 0.9951 - val_loss: 0.4333 - val_acc: 0.9167\n",
            "Epoch 44/120\n",
            "20/20 [==============================] - ETA: 0s - loss: 0.0194 - acc: 0.9935\n",
            "Epoch 44: val_loss did not improve from 0.39912\n",
            "20/20 [==============================] - 13s 622ms/step - loss: 0.0194 - acc: 0.9935 - val_loss: 0.4390 - val_acc: 0.9028\n",
            "Epoch 45/120\n",
            "20/20 [==============================] - ETA: 0s - loss: 0.0213 - acc: 0.9951\n",
            "Epoch 45: val_loss did not improve from 0.39912\n",
            "20/20 [==============================] - 13s 625ms/step - loss: 0.0213 - acc: 0.9951 - val_loss: 0.4407 - val_acc: 0.9028\n",
            "Epoch 46/120\n",
            "20/20 [==============================] - ETA: 0s - loss: 0.0279 - acc: 0.9886\n",
            "Epoch 46: val_loss did not improve from 0.39912\n",
            "20/20 [==============================] - 12s 618ms/step - loss: 0.0279 - acc: 0.9886 - val_loss: 0.4255 - val_acc: 0.9306\n",
            "Epoch 47/120\n",
            "20/20 [==============================] - ETA: 0s - loss: 0.0166 - acc: 0.9984\n",
            "Epoch 47: val_loss did not improve from 0.39912\n",
            "20/20 [==============================] - 13s 637ms/step - loss: 0.0166 - acc: 0.9984 - val_loss: 0.4371 - val_acc: 0.9167\n",
            "Epoch 48/120\n",
            "20/20 [==============================] - ETA: 0s - loss: 0.0280 - acc: 0.9967\n",
            "Epoch 48: val_loss did not improve from 0.39912\n",
            "20/20 [==============================] - 13s 622ms/step - loss: 0.0280 - acc: 0.9967 - val_loss: 0.4548 - val_acc: 0.9028\n",
            "Epoch 49/120\n",
            "20/20 [==============================] - ETA: 0s - loss: 0.0205 - acc: 0.9967\n",
            "Epoch 49: val_loss did not improve from 0.39912\n",
            "20/20 [==============================] - 13s 625ms/step - loss: 0.0205 - acc: 0.9967 - val_loss: 0.4541 - val_acc: 0.9028\n",
            "Epoch 50/120\n",
            "20/20 [==============================] - ETA: 0s - loss: 0.0229 - acc: 0.9935\n",
            "Epoch 50: val_loss did not improve from 0.39912\n",
            "20/20 [==============================] - 13s 623ms/step - loss: 0.0229 - acc: 0.9935 - val_loss: 0.4548 - val_acc: 0.9167\n",
            "Epoch 51/120\n",
            "20/20 [==============================] - ETA: 0s - loss: 0.0117 - acc: 0.9984\n",
            "Epoch 51: val_loss did not improve from 0.39912\n",
            "20/20 [==============================] - 13s 623ms/step - loss: 0.0117 - acc: 0.9984 - val_loss: 0.4576 - val_acc: 0.9306\n",
            "Epoch 52/120\n",
            "20/20 [==============================] - ETA: 0s - loss: 0.0126 - acc: 0.9951\n",
            "Epoch 52: val_loss did not improve from 0.39912\n",
            "20/20 [==============================] - 13s 624ms/step - loss: 0.0126 - acc: 0.9951 - val_loss: 0.4551 - val_acc: 0.9306\n",
            "Epoch 53/120\n",
            "20/20 [==============================] - ETA: 0s - loss: 0.0129 - acc: 0.9967\n",
            "Epoch 53: val_loss did not improve from 0.39912\n",
            "20/20 [==============================] - 13s 622ms/step - loss: 0.0129 - acc: 0.9967 - val_loss: 0.4536 - val_acc: 0.9028\n",
            "Epoch 54/120\n",
            "20/20 [==============================] - ETA: 0s - loss: 0.0111 - acc: 0.9984\n",
            "Epoch 54: val_loss did not improve from 0.39912\n",
            "20/20 [==============================] - 13s 625ms/step - loss: 0.0111 - acc: 0.9984 - val_loss: 0.4566 - val_acc: 0.9028\n",
            "Epoch 55/120\n",
            "20/20 [==============================] - ETA: 0s - loss: 0.0094 - acc: 1.0000\n",
            "Epoch 55: val_loss did not improve from 0.39912\n",
            "20/20 [==============================] - 13s 626ms/step - loss: 0.0094 - acc: 1.0000 - val_loss: 0.4691 - val_acc: 0.8889\n",
            "Epoch 56/120\n",
            "20/20 [==============================] - ETA: 0s - loss: 0.0073 - acc: 1.0000\n",
            "Epoch 56: val_loss did not improve from 0.39912\n",
            "20/20 [==============================] - 13s 620ms/step - loss: 0.0073 - acc: 1.0000 - val_loss: 0.4657 - val_acc: 0.9028\n",
            "Epoch 57/120\n",
            "20/20 [==============================] - ETA: 0s - loss: 0.0178 - acc: 0.9951\n",
            "Epoch 57: val_loss did not improve from 0.39912\n",
            "20/20 [==============================] - 13s 638ms/step - loss: 0.0178 - acc: 0.9951 - val_loss: 0.4651 - val_acc: 0.8889\n",
            "Epoch 58/120\n",
            "20/20 [==============================] - ETA: 0s - loss: 0.0193 - acc: 0.9967\n",
            "Epoch 58: val_loss did not improve from 0.39912\n",
            "20/20 [==============================] - 13s 626ms/step - loss: 0.0193 - acc: 0.9967 - val_loss: 0.4876 - val_acc: 0.9028\n",
            "Epoch 59/120\n",
            "20/20 [==============================] - ETA: 0s - loss: 0.0098 - acc: 1.0000\n",
            "Epoch 59: val_loss did not improve from 0.39912\n",
            "20/20 [==============================] - 13s 628ms/step - loss: 0.0098 - acc: 1.0000 - val_loss: 0.4877 - val_acc: 0.9028\n",
            "Epoch 60/120\n",
            "20/20 [==============================] - ETA: 0s - loss: 0.0239 - acc: 0.9951\n",
            "Epoch 60: val_loss did not improve from 0.39912\n",
            "20/20 [==============================] - 13s 625ms/step - loss: 0.0239 - acc: 0.9951 - val_loss: 0.4766 - val_acc: 0.8889\n",
            "Epoch 61/120\n",
            "20/20 [==============================] - ETA: 0s - loss: 0.0104 - acc: 0.9984\n",
            "Epoch 61: val_loss did not improve from 0.39912\n",
            "20/20 [==============================] - 13s 623ms/step - loss: 0.0104 - acc: 0.9984 - val_loss: 0.4729 - val_acc: 0.8750\n",
            "Epoch 62/120\n",
            "20/20 [==============================] - ETA: 0s - loss: 0.0114 - acc: 0.9967\n",
            "Epoch 62: val_loss did not improve from 0.39912\n",
            "20/20 [==============================] - 13s 623ms/step - loss: 0.0114 - acc: 0.9967 - val_loss: 0.4607 - val_acc: 0.9028\n",
            "Epoch 62: early stopping\n"
          ]
        }
      ]
    },
    {
      "cell_type": "code",
      "source": [
        "result = resnet_model.evaluate(test_generator)"
      ],
      "metadata": {
        "id": "8A3Rh2l2QoXm",
        "colab": {
          "base_uri": "https://localhost:8080/"
        },
        "outputId": "0cd02bb9-187f-424c-cacf-32b91ad9c438"
      },
      "execution_count": 31,
      "outputs": [
        {
          "output_type": "stream",
          "name": "stdout",
          "text": [
            "10/10 [==============================] - 7s 661ms/step - loss: 0.4106 - acc: 0.8508\n"
          ]
        }
      ]
    },
    {
      "cell_type": "code",
      "source": [
        "from keras.models import load_model\n",
        "resnet50_model = load_model('finalmodel-ResNet50.hdf5')"
      ],
      "metadata": {
        "id": "cjP_IJ7gQoVN"
      },
      "execution_count": 32,
      "outputs": []
    },
    {
      "cell_type": "code",
      "source": [
        "paths = [\"Data/test/adenocarcinoma/\", \"Data/test/large.cell.carcinoma/\", \"Data/test/normal/\", \"Data/test/squamous.cell.carcinoma/\"]\n",
        "results = {\"adeno\":{0:0, 1:0, 2:0, 3:0},\n",
        "            \"large\":{0:0, 1:0, 2:0, 3:0},\n",
        "            \"normal\":{0:0, 1:0, 2:0, 3:0},\n",
        "            \"squamous\":{0:0, 1:0, 2:0, 3:0}}\n",
        "\n",
        "for path, key in zip(paths, results.keys()):\n",
        "    \n",
        "    for file in os.listdir(path):\n",
        "        img = tf.keras.utils.load_img(\n",
        "            (path + file), target_size=(460, 460)\n",
        "        )\n",
        "        img_array = tf.keras.utils.img_to_array(img)\n",
        "        img_array = tf.expand_dims(img_array, 0)\n",
        "        prediction = resnet50_model.predict(img_array, verbose=0)\n",
        "        results[key][np.argmax(prediction)] = results.get(key).get(np.argmax(prediction),0) + 1\n",
        "\n",
        "results\n",
        "df = pd.DataFrame(results)\n",
        "\n",
        "print(\"Overall accuracy is : {:.2f}%\\n\".format((df[\"adeno\"][0] + df[\"large\"][1] + df[\"normal\"][2] + df[\"squamous\"][3]) / 315 * 100))\n",
        "\n",
        "print(\"Adeno cancer detection accuracy is : {:.2f}%\".format(df[\"adeno\"][0] / df[\"adeno\"].sum() * 100))\n",
        "print(\"Large cell cancer detection accuracy is : {:.2f}%\".format(df[\"large\"][1] / df[\"large\"].sum() * 100))\n",
        "print(\"Normal chest detection accuracy is : {:.2f}%\".format(df[\"normal\"][2] / df[\"normal\"].sum() * 100))\n",
        "print(\"Squamous cell cancer detection accuracy is : {:.2f}%\".format(df[\"squamous\"][3] / df[\"squamous\"].sum() * 100))\n",
        "\n",
        "print(\"\\nConfusion Matrix :\")\n",
        "df.transpose()\n"
      ],
      "metadata": {
        "id": "sOsfZnp0QoSq",
        "colab": {
          "base_uri": "https://localhost:8080/",
          "height": 321
        },
        "outputId": "8ffa3511-bf53-4f24-a86f-ce03d6dd20d8"
      },
      "execution_count": 36,
      "outputs": [
        {
          "output_type": "stream",
          "name": "stdout",
          "text": [
            "Overall accuracy is : 88.25%\n",
            "\n",
            "Adeno cancer detection accuracy is : 83.33%\n",
            "Large cell cancer detection accuracy is : 84.31%\n",
            "Normal chest detection accuracy is : 98.15%\n",
            "Squamous cell cancer detection accuracy is : 91.11%\n",
            "\n",
            "Confusion Matrix :\n"
          ]
        },
        {
          "output_type": "execute_result",
          "data": {
            "text/plain": [
              "            0   1   2   3\n",
              "adeno     100  11   0   9\n",
              "large       7  43   0   1\n",
              "normal      0   1  53   0\n",
              "squamous    8   0   0  82"
            ],
            "text/html": [
              "\n",
              "  <div id=\"df-d278edc7-0d9a-4f81-aa72-79d37944c397\">\n",
              "    <div class=\"colab-df-container\">\n",
              "      <div>\n",
              "<style scoped>\n",
              "    .dataframe tbody tr th:only-of-type {\n",
              "        vertical-align: middle;\n",
              "    }\n",
              "\n",
              "    .dataframe tbody tr th {\n",
              "        vertical-align: top;\n",
              "    }\n",
              "\n",
              "    .dataframe thead th {\n",
              "        text-align: right;\n",
              "    }\n",
              "</style>\n",
              "<table border=\"1\" class=\"dataframe\">\n",
              "  <thead>\n",
              "    <tr style=\"text-align: right;\">\n",
              "      <th></th>\n",
              "      <th>0</th>\n",
              "      <th>1</th>\n",
              "      <th>2</th>\n",
              "      <th>3</th>\n",
              "    </tr>\n",
              "  </thead>\n",
              "  <tbody>\n",
              "    <tr>\n",
              "      <th>adeno</th>\n",
              "      <td>100</td>\n",
              "      <td>11</td>\n",
              "      <td>0</td>\n",
              "      <td>9</td>\n",
              "    </tr>\n",
              "    <tr>\n",
              "      <th>large</th>\n",
              "      <td>7</td>\n",
              "      <td>43</td>\n",
              "      <td>0</td>\n",
              "      <td>1</td>\n",
              "    </tr>\n",
              "    <tr>\n",
              "      <th>normal</th>\n",
              "      <td>0</td>\n",
              "      <td>1</td>\n",
              "      <td>53</td>\n",
              "      <td>0</td>\n",
              "    </tr>\n",
              "    <tr>\n",
              "      <th>squamous</th>\n",
              "      <td>8</td>\n",
              "      <td>0</td>\n",
              "      <td>0</td>\n",
              "      <td>82</td>\n",
              "    </tr>\n",
              "  </tbody>\n",
              "</table>\n",
              "</div>\n",
              "      <button class=\"colab-df-convert\" onclick=\"convertToInteractive('df-d278edc7-0d9a-4f81-aa72-79d37944c397')\"\n",
              "              title=\"Convert this dataframe to an interactive table.\"\n",
              "              style=\"display:none;\">\n",
              "        \n",
              "  <svg xmlns=\"http://www.w3.org/2000/svg\" height=\"24px\"viewBox=\"0 0 24 24\"\n",
              "       width=\"24px\">\n",
              "    <path d=\"M0 0h24v24H0V0z\" fill=\"none\"/>\n",
              "    <path d=\"M18.56 5.44l.94 2.06.94-2.06 2.06-.94-2.06-.94-.94-2.06-.94 2.06-2.06.94zm-11 1L8.5 8.5l.94-2.06 2.06-.94-2.06-.94L8.5 2.5l-.94 2.06-2.06.94zm10 10l.94 2.06.94-2.06 2.06-.94-2.06-.94-.94-2.06-.94 2.06-2.06.94z\"/><path d=\"M17.41 7.96l-1.37-1.37c-.4-.4-.92-.59-1.43-.59-.52 0-1.04.2-1.43.59L10.3 9.45l-7.72 7.72c-.78.78-.78 2.05 0 2.83L4 21.41c.39.39.9.59 1.41.59.51 0 1.02-.2 1.41-.59l7.78-7.78 2.81-2.81c.8-.78.8-2.07 0-2.86zM5.41 20L4 18.59l7.72-7.72 1.47 1.35L5.41 20z\"/>\n",
              "  </svg>\n",
              "      </button>\n",
              "      \n",
              "  <style>\n",
              "    .colab-df-container {\n",
              "      display:flex;\n",
              "      flex-wrap:wrap;\n",
              "      gap: 12px;\n",
              "    }\n",
              "\n",
              "    .colab-df-convert {\n",
              "      background-color: #E8F0FE;\n",
              "      border: none;\n",
              "      border-radius: 50%;\n",
              "      cursor: pointer;\n",
              "      display: none;\n",
              "      fill: #1967D2;\n",
              "      height: 32px;\n",
              "      padding: 0 0 0 0;\n",
              "      width: 32px;\n",
              "    }\n",
              "\n",
              "    .colab-df-convert:hover {\n",
              "      background-color: #E2EBFA;\n",
              "      box-shadow: 0px 1px 2px rgba(60, 64, 67, 0.3), 0px 1px 3px 1px rgba(60, 64, 67, 0.15);\n",
              "      fill: #174EA6;\n",
              "    }\n",
              "\n",
              "    [theme=dark] .colab-df-convert {\n",
              "      background-color: #3B4455;\n",
              "      fill: #D2E3FC;\n",
              "    }\n",
              "\n",
              "    [theme=dark] .colab-df-convert:hover {\n",
              "      background-color: #434B5C;\n",
              "      box-shadow: 0px 1px 3px 1px rgba(0, 0, 0, 0.15);\n",
              "      filter: drop-shadow(0px 1px 2px rgba(0, 0, 0, 0.3));\n",
              "      fill: #FFFFFF;\n",
              "    }\n",
              "  </style>\n",
              "\n",
              "      <script>\n",
              "        const buttonEl =\n",
              "          document.querySelector('#df-d278edc7-0d9a-4f81-aa72-79d37944c397 button.colab-df-convert');\n",
              "        buttonEl.style.display =\n",
              "          google.colab.kernel.accessAllowed ? 'block' : 'none';\n",
              "\n",
              "        async function convertToInteractive(key) {\n",
              "          const element = document.querySelector('#df-d278edc7-0d9a-4f81-aa72-79d37944c397');\n",
              "          const dataTable =\n",
              "            await google.colab.kernel.invokeFunction('convertToInteractive',\n",
              "                                                     [key], {});\n",
              "          if (!dataTable) return;\n",
              "\n",
              "          const docLinkHtml = 'Like what you see? Visit the ' +\n",
              "            '<a target=\"_blank\" href=https://colab.research.google.com/notebooks/data_table.ipynb>data table notebook</a>'\n",
              "            + ' to learn more about interactive tables.';\n",
              "          element.innerHTML = '';\n",
              "          dataTable['output_type'] = 'display_data';\n",
              "          await google.colab.output.renderOutput(dataTable, element);\n",
              "          const docLink = document.createElement('div');\n",
              "          docLink.innerHTML = docLinkHtml;\n",
              "          element.appendChild(docLink);\n",
              "        }\n",
              "      </script>\n",
              "    </div>\n",
              "  </div>\n",
              "  "
            ]
          },
          "metadata": {},
          "execution_count": 36
        }
      ]
    },
    {
      "cell_type": "code",
      "source": [
        "img_path = \"Data/test/squamous.cell.carcinoma/000111.png\"\n",
        "\n",
        "class_names=list(test_generator.class_indices.keys())\n",
        "\n",
        "img = tf.keras.utils.load_img(img_path, target_size=(460, 460))\n",
        "img_array = tf.keras.utils.img_to_array(img)\n",
        "img_array = tf.expand_dims(img_array, 0)\n",
        "\n",
        "prediction = resnet50_model.predict(img_array)\n",
        "\n",
        "print(\n",
        "    \"This image most likely belongs to {} with a {:.2f} percent confidence.\"\n",
        "    .format(class_names[np.argmax(prediction)], 100 * np.max(prediction))\n",
        ")"
      ],
      "metadata": {
        "colab": {
          "base_uri": "https://localhost:8080/"
        },
        "id": "6EjmRF01aveS",
        "outputId": "4821f7fc-377f-4306-f1e8-ff72cbdfac3f"
      },
      "execution_count": 38,
      "outputs": [
        {
          "output_type": "stream",
          "name": "stdout",
          "text": [
            "1/1 [==============================] - 0s 21ms/step\n",
            "This image most likely belongs to squamous.cell.carcinoma with a 86.65 percent confidence.\n"
          ]
        }
      ]
    },
    {
      "cell_type": "code",
      "source": [],
      "metadata": {
        "id": "66vhY4TLavmb"
      },
      "execution_count": 36,
      "outputs": []
    },
    {
      "cell_type": "code",
      "source": [],
      "metadata": {
        "id": "J4e_cA6davpJ"
      },
      "execution_count": 36,
      "outputs": []
    },
    {
      "cell_type": "code",
      "source": [],
      "metadata": {
        "id": "yJxzfhlhavrm"
      },
      "execution_count": 36,
      "outputs": []
    },
    {
      "cell_type": "code",
      "source": [],
      "metadata": {
        "id": "ucoG6u6gavuH"
      },
      "execution_count": null,
      "outputs": []
    },
    {
      "cell_type": "markdown",
      "source": [],
      "metadata": {
        "id": "xikqYJt9J1aZ"
      }
    }
  ]
}